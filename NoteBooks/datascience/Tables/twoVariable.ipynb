{
 "metadata": {
  "language_info": {
   "codemirror_mode": {
    "name": "ipython",
    "version": 3
   },
   "file_extension": ".py",
   "mimetype": "text/x-python",
   "name": "python",
   "nbconvert_exporter": "python",
   "pygments_lexer": "ipython3",
   "version": "3.7.3-final"
  },
  "orig_nbformat": 2,
  "kernelspec": {
   "name": "Python 3.7.3 64-bit",
   "display_name": "Python 3.7.3 64-bit",
   "metadata": {
    "interpreter": {
     "hash": "31f2aee4e71d21fbe5cf8b01ff0e069b9275f58929596ceb00d14d90e3e16cd6"
    }
   }
  }
 },
 "nbformat": 4,
 "nbformat_minor": 2,
 "cells": [
  {
   "cell_type": "code",
   "execution_count": 29,
   "metadata": {},
   "outputs": [],
   "source": [
    "from datascience import*\n",
    "import numpy as np"
   ]
  },
  {
   "cell_type": "code",
   "execution_count": 37,
   "metadata": {},
   "outputs": [
    {
     "output_type": "execute_result",
     "data": {
      "text/plain": [
       "Flavor     | Color       | Price\n",
       "strawberry | pink        | 3.55\n",
       "chocolate  | light brown | 4.75\n",
       "chocolate  | dark brown  | 5.25\n",
       "strawberry | pink        | 5.25\n",
       "chocolate  | dark brown  | 5.25\n",
       "bubblegum  | pink        | 4.75"
      ],
      "text/html": "<table border=\"1\" class=\"dataframe\">\n    <thead>\n        <tr>\n            <th>Flavor</th> <th>Color</th> <th>Price</th>\n        </tr>\n    </thead>\n    <tbody>\n        <tr>\n            <td>strawberry</td> <td>pink       </td> <td>3.55 </td>\n        </tr>\n        <tr>\n            <td>chocolate </td> <td>light brown</td> <td>4.75 </td>\n        </tr>\n        <tr>\n            <td>chocolate </td> <td>dark brown </td> <td>5.25 </td>\n        </tr>\n        <tr>\n            <td>strawberry</td> <td>pink       </td> <td>5.25 </td>\n        </tr>\n        <tr>\n            <td>chocolate </td> <td>dark brown </td> <td>5.25 </td>\n        </tr>\n        <tr>\n            <td>bubblegum </td> <td>pink       </td> <td>4.75 </td>\n        </tr>\n    </tbody>\n</table>"
     },
     "metadata": {},
     "execution_count": 37
    }
   ],
   "source": [
    "more_cones = Table().with_columns(\n",
    "    'Flavor', make_array('strawberry', 'chocolate', 'chocolate', 'strawberry', 'chocolate', 'bubblegum'),\n",
    "    'Color', make_array('pink', 'light brown', 'dark brown', 'pink', 'dark brown', 'pink'),\n",
    "    'Price', make_array(3.55, 4.75, 5.25, 5.25, 5.25, 4.75)\n",
    ")\n",
    "\n",
    "more_cones"
   ]
  },
  {
   "cell_type": "code",
   "execution_count": 4,
   "metadata": {},
   "outputs": [
    {
     "output_type": "execute_result",
     "data": {
      "text/plain": [
       "Flavor     | count\n",
       "bubblegum  | 1\n",
       "chocolate  | 3\n",
       "strawberry | 2"
      ],
      "text/html": "<table border=\"1\" class=\"dataframe\">\n    <thead>\n        <tr>\n            <th>Flavor</th> <th>count</th>\n        </tr>\n    </thead>\n    <tbody>\n        <tr>\n            <td>bubblegum </td> <td>1    </td>\n        </tr>\n        <tr>\n            <td>chocolate </td> <td>3    </td>\n        </tr>\n        <tr>\n            <td>strawberry</td> <td>2    </td>\n        </tr>\n    </tbody>\n</table>"
     },
     "metadata": {},
     "execution_count": 4
    }
   ],
   "source": [
    "more_cones.group('Flavor')"
   ]
  },
  {
   "cell_type": "code",
   "execution_count": 5,
   "metadata": {},
   "outputs": [
    {
     "output_type": "execute_result",
     "data": {
      "text/plain": [
       "Flavor     | Color       | count\n",
       "bubblegum  | pink        | 1\n",
       "chocolate  | dark brown  | 2\n",
       "chocolate  | light brown | 1\n",
       "strawberry | pink        | 2"
      ],
      "text/html": "<table border=\"1\" class=\"dataframe\">\n    <thead>\n        <tr>\n            <th>Flavor</th> <th>Color</th> <th>count</th>\n        </tr>\n    </thead>\n    <tbody>\n        <tr>\n            <td>bubblegum </td> <td>pink       </td> <td>1    </td>\n        </tr>\n        <tr>\n            <td>chocolate </td> <td>dark brown </td> <td>2    </td>\n        </tr>\n        <tr>\n            <td>chocolate </td> <td>light brown</td> <td>1    </td>\n        </tr>\n        <tr>\n            <td>strawberry</td> <td>pink       </td> <td>2    </td>\n        </tr>\n    </tbody>\n</table>"
     },
     "metadata": {},
     "execution_count": 5
    }
   ],
   "source": [
    "more_cones.group(['Flavor', 'Color'])"
   ]
  },
  {
   "cell_type": "code",
   "execution_count": 6,
   "metadata": {},
   "outputs": [
    {
     "output_type": "execute_result",
     "data": {
      "text/plain": [
       "Color       | bubblegum | chocolate | strawberry\n",
       "dark brown  | 0         | 2         | 0\n",
       "light brown | 0         | 1         | 0\n",
       "pink        | 1         | 0         | 2"
      ],
      "text/html": "<table border=\"1\" class=\"dataframe\">\n    <thead>\n        <tr>\n            <th>Color</th> <th>bubblegum</th> <th>chocolate</th> <th>strawberry</th>\n        </tr>\n    </thead>\n    <tbody>\n        <tr>\n            <td>dark brown </td> <td>0        </td> <td>2        </td> <td>0         </td>\n        </tr>\n        <tr>\n            <td>light brown</td> <td>0        </td> <td>1        </td> <td>0         </td>\n        </tr>\n        <tr>\n            <td>pink       </td> <td>1        </td> <td>0        </td> <td>2         </td>\n        </tr>\n    </tbody>\n</table>"
     },
     "metadata": {},
     "execution_count": 6
    }
   ],
   "source": [
    "more_cones.pivot('Flavor', 'Color')"
   ]
  },
  {
   "cell_type": "code",
   "execution_count": 7,
   "metadata": {},
   "outputs": [
    {
     "output_type": "execute_result",
     "data": {
      "text/plain": [
       "Color       | bubblegum | chocolate | strawberry\n",
       "dark brown  | 0         | 10.5      | 0\n",
       "light brown | 0         | 4.75      | 0\n",
       "pink        | 4.75      | 0         | 8.8"
      ],
      "text/html": "<table border=\"1\" class=\"dataframe\">\n    <thead>\n        <tr>\n            <th>Color</th> <th>bubblegum</th> <th>chocolate</th> <th>strawberry</th>\n        </tr>\n    </thead>\n    <tbody>\n        <tr>\n            <td>dark brown </td> <td>0        </td> <td>10.5     </td> <td>0         </td>\n        </tr>\n        <tr>\n            <td>light brown</td> <td>0        </td> <td>4.75     </td> <td>0         </td>\n        </tr>\n        <tr>\n            <td>pink       </td> <td>4.75     </td> <td>0        </td> <td>8.8       </td>\n        </tr>\n    </tbody>\n</table>"
     },
     "metadata": {},
     "execution_count": 7
    }
   ],
   "source": [
    "more_cones.pivot('Flavor', 'Color', values='Price', collect=sum)"
   ]
  },
  {
   "cell_type": "code",
   "execution_count": 8,
   "metadata": {},
   "outputs": [
    {
     "output_type": "execute_result",
     "data": {
      "text/plain": [
       "Flavor     | Color       | Price sum\n",
       "bubblegum  | pink        | 4.75\n",
       "chocolate  | dark brown  | 10.5\n",
       "chocolate  | light brown | 4.75\n",
       "strawberry | pink        | 8.8"
      ],
      "text/html": "<table border=\"1\" class=\"dataframe\">\n    <thead>\n        <tr>\n            <th>Flavor</th> <th>Color</th> <th>Price sum</th>\n        </tr>\n    </thead>\n    <tbody>\n        <tr>\n            <td>bubblegum </td> <td>pink       </td> <td>4.75     </td>\n        </tr>\n        <tr>\n            <td>chocolate </td> <td>dark brown </td> <td>10.5     </td>\n        </tr>\n        <tr>\n            <td>chocolate </td> <td>light brown</td> <td>4.75     </td>\n        </tr>\n        <tr>\n            <td>strawberry</td> <td>pink       </td> <td>8.8      </td>\n        </tr>\n    </tbody>\n</table>"
     },
     "metadata": {},
     "execution_count": 8
    }
   ],
   "source": [
    "more_cones.group(['Flavor', 'Color'], sum)"
   ]
  },
  {
   "cell_type": "code",
   "execution_count": 9,
   "metadata": {},
   "outputs": [
    {
     "output_type": "execute_result",
     "data": {
      "text/plain": [
       "Year                   | Age      | Gender | Educational Attainment    | Personal Income    | Population Count\n",
       "01/01/2014 12:00:00 AM | 18 to 64 | Male   | No high school diploma    | No Income          | 376783\n",
       "01/01/2014 12:00:00 AM | 18 to 64 | Male   | No high school diploma    | $5,000 to $9,999   | 158572\n",
       "01/01/2014 12:00:00 AM | 18 to 64 | Male   | No high school diploma    | $10,000 to $14,999 | 231957\n",
       "01/01/2014 12:00:00 AM | 18 to 64 | Male   | No high school diploma    | $15,000 to $24,999 | 460129\n",
       "01/01/2014 12:00:00 AM | 18 to 64 | Male   | No high school diploma    | $25,000 to $34,999 | 288460\n",
       "01/01/2014 12:00:00 AM | 18 to 64 | Male   | No high school diploma    | $35,000 to $49,999 | 194888\n",
       "01/01/2014 12:00:00 AM | 18 to 64 | Male   | No high school diploma    | $50,000 to $74,999 | 104646\n",
       "01/01/2014 12:00:00 AM | 18 to 64 | Male   | No high school diploma    | $75,000 and over   | 54734\n",
       "01/01/2014 12:00:00 AM | 18 to 64 | Male   | High school or equivalent | No Income          | 405204\n",
       "01/01/2014 12:00:00 AM | 18 to 64 | Male   | High school or equivalent | $5,000 to $9,999   | 238754\n",
       "... (117 rows omitted)"
      ],
      "text/html": "<table border=\"1\" class=\"dataframe\">\n    <thead>\n        <tr>\n            <th>Year</th> <th>Age</th> <th>Gender</th> <th>Educational Attainment</th> <th>Personal Income</th> <th>Population Count</th>\n        </tr>\n    </thead>\n    <tbody>\n        <tr>\n            <td>01/01/2014 12:00:00 AM</td> <td>18 to 64</td> <td>Male  </td> <td>No high school diploma   </td> <td>No Income         </td> <td>376783          </td>\n        </tr>\n        <tr>\n            <td>01/01/2014 12:00:00 AM</td> <td>18 to 64</td> <td>Male  </td> <td>No high school diploma   </td> <td>$5,000 to $9,999  </td> <td>158572          </td>\n        </tr>\n        <tr>\n            <td>01/01/2014 12:00:00 AM</td> <td>18 to 64</td> <td>Male  </td> <td>No high school diploma   </td> <td>$10,000 to $14,999</td> <td>231957          </td>\n        </tr>\n        <tr>\n            <td>01/01/2014 12:00:00 AM</td> <td>18 to 64</td> <td>Male  </td> <td>No high school diploma   </td> <td>$15,000 to $24,999</td> <td>460129          </td>\n        </tr>\n        <tr>\n            <td>01/01/2014 12:00:00 AM</td> <td>18 to 64</td> <td>Male  </td> <td>No high school diploma   </td> <td>$25,000 to $34,999</td> <td>288460          </td>\n        </tr>\n        <tr>\n            <td>01/01/2014 12:00:00 AM</td> <td>18 to 64</td> <td>Male  </td> <td>No high school diploma   </td> <td>$35,000 to $49,999</td> <td>194888          </td>\n        </tr>\n        <tr>\n            <td>01/01/2014 12:00:00 AM</td> <td>18 to 64</td> <td>Male  </td> <td>No high school diploma   </td> <td>$50,000 to $74,999</td> <td>104646          </td>\n        </tr>\n        <tr>\n            <td>01/01/2014 12:00:00 AM</td> <td>18 to 64</td> <td>Male  </td> <td>No high school diploma   </td> <td>$75,000 and over  </td> <td>54734           </td>\n        </tr>\n        <tr>\n            <td>01/01/2014 12:00:00 AM</td> <td>18 to 64</td> <td>Male  </td> <td>High school or equivalent</td> <td>No Income         </td> <td>405204          </td>\n        </tr>\n        <tr>\n            <td>01/01/2014 12:00:00 AM</td> <td>18 to 64</td> <td>Male  </td> <td>High school or equivalent</td> <td>$5,000 to $9,999  </td> <td>238754          </td>\n        </tr>\n    </tbody>\n</table>\n<p>... (117 rows omitted)</p>"
     },
     "metadata": {},
     "execution_count": 9
    }
   ],
   "source": [
    "full_table = Table.read_table('personal_income.csv')\n",
    "ca_2014 = full_table.where('Year', are.equal_to('01/01/2014 12:00:00 AM')).where('Age', are.not_equal_to('00 to 17'))\n",
    "ca_2014"
   ]
  },
  {
   "cell_type": "code",
   "execution_count": 10,
   "metadata": {},
   "outputs": [
    {
     "output_type": "execute_result",
     "data": {
      "text/plain": [
       "Educational Attainment    | Personal Income    | Population Count\n",
       "No high school diploma    | No Income          | 376783\n",
       "No high school diploma    | $5,000 to $9,999   | 158572\n",
       "No high school diploma    | $10,000 to $14,999 | 231957\n",
       "No high school diploma    | $15,000 to $24,999 | 460129\n",
       "No high school diploma    | $25,000 to $34,999 | 288460\n",
       "No high school diploma    | $35,000 to $49,999 | 194888\n",
       "No high school diploma    | $50,000 to $74,999 | 104646\n",
       "No high school diploma    | $75,000 and over   | 54734\n",
       "High school or equivalent | No Income          | 405204\n",
       "High school or equivalent | $5,000 to $9,999   | 238754\n",
       "... (117 rows omitted)"
      ],
      "text/html": "<table border=\"1\" class=\"dataframe\">\n    <thead>\n        <tr>\n            <th>Educational Attainment</th> <th>Personal Income</th> <th>Population Count</th>\n        </tr>\n    </thead>\n    <tbody>\n        <tr>\n            <td>No high school diploma   </td> <td>No Income         </td> <td>376783          </td>\n        </tr>\n        <tr>\n            <td>No high school diploma   </td> <td>$5,000 to $9,999  </td> <td>158572          </td>\n        </tr>\n        <tr>\n            <td>No high school diploma   </td> <td>$10,000 to $14,999</td> <td>231957          </td>\n        </tr>\n        <tr>\n            <td>No high school diploma   </td> <td>$15,000 to $24,999</td> <td>460129          </td>\n        </tr>\n        <tr>\n            <td>No high school diploma   </td> <td>$25,000 to $34,999</td> <td>288460          </td>\n        </tr>\n        <tr>\n            <td>No high school diploma   </td> <td>$35,000 to $49,999</td> <td>194888          </td>\n        </tr>\n        <tr>\n            <td>No high school diploma   </td> <td>$50,000 to $74,999</td> <td>104646          </td>\n        </tr>\n        <tr>\n            <td>No high school diploma   </td> <td>$75,000 and over  </td> <td>54734           </td>\n        </tr>\n        <tr>\n            <td>High school or equivalent</td> <td>No Income         </td> <td>405204          </td>\n        </tr>\n        <tr>\n            <td>High school or equivalent</td> <td>$5,000 to $9,999  </td> <td>238754          </td>\n        </tr>\n    </tbody>\n</table>\n<p>... (117 rows omitted)</p>"
     },
     "metadata": {},
     "execution_count": 10
    }
   ],
   "source": [
    "educ_inc = ca_2014.select('Educational Attainment', 'Personal Income', 'Population Count')\n",
    "educ_inc"
   ]
  },
  {
   "cell_type": "code",
   "execution_count": 11,
   "metadata": {},
   "outputs": [
    {
     "output_type": "execute_result",
     "data": {
      "text/plain": [
       "Personal Income    | Bachelor's degree or higher | High school or equivalent | No high school diploma | Some college, less than 4-yr degree\n",
       "$10,000 to $14,999 | 452449                      | 692661                    | 664607                 | 798596\n",
       "$15,000 to $24,999 | 773684                      | 1.25238e+06               | 875498                 | 1.34526e+06\n",
       "$25,000 to $34,999 | 693884                      | 929218                    | 464564                 | 1.09164e+06\n",
       "$35,000 to $49,999 | 1.12279e+06                 | 782804                    | 260579                 | 1.11242e+06\n",
       "$5,000 to $9,999   | 326020                      | 626499                    | 597039                 | 810641\n",
       "$50,000 to $74,999 | 1.59468e+06                 | 525517                    | 132516                 | 883826\n",
       "$75,000 and over   | 2.9867e+06                  | 323192                    | 58945                  | 748103\n",
       "No Income          | 575491                      | 1.16187e+06               | 1.20453e+06            | 985011"
      ],
      "text/html": "<table border=\"1\" class=\"dataframe\">\n    <thead>\n        <tr>\n            <th>Personal Income</th> <th>Bachelor's degree or higher</th> <th>High school or equivalent</th> <th>No high school diploma</th> <th>Some college, less than 4-yr degree</th>\n        </tr>\n    </thead>\n    <tbody>\n        <tr>\n            <td>$10,000 to $14,999</td> <td>452449                     </td> <td>692661                   </td> <td>664607                </td> <td>798596                             </td>\n        </tr>\n        <tr>\n            <td>$15,000 to $24,999</td> <td>773684                     </td> <td>1.25238e+06              </td> <td>875498                </td> <td>1.34526e+06                        </td>\n        </tr>\n        <tr>\n            <td>$25,000 to $34,999</td> <td>693884                     </td> <td>929218                   </td> <td>464564                </td> <td>1.09164e+06                        </td>\n        </tr>\n        <tr>\n            <td>$35,000 to $49,999</td> <td>1.12279e+06                </td> <td>782804                   </td> <td>260579                </td> <td>1.11242e+06                        </td>\n        </tr>\n        <tr>\n            <td>$5,000 to $9,999  </td> <td>326020                     </td> <td>626499                   </td> <td>597039                </td> <td>810641                             </td>\n        </tr>\n        <tr>\n            <td>$50,000 to $74,999</td> <td>1.59468e+06                </td> <td>525517                   </td> <td>132516                </td> <td>883826                             </td>\n        </tr>\n        <tr>\n            <td>$75,000 and over  </td> <td>2.9867e+06                 </td> <td>323192                   </td> <td>58945                 </td> <td>748103                             </td>\n        </tr>\n        <tr>\n            <td>No Income         </td> <td>575491                     </td> <td>1.16187e+06              </td> <td>1.20453e+06           </td> <td>985011                             </td>\n        </tr>\n    </tbody>\n</table>"
     },
     "metadata": {},
     "execution_count": 11
    }
   ],
   "source": [
    "totals = educ_inc.pivot('Educational Attainment', 'Personal Income', values='Population Count', collect=sum)\n",
    "totals"
   ]
  },
  {
   "cell_type": "code",
   "execution_count": 30,
   "metadata": {},
   "outputs": [],
   "source": [
    "def percents(counts):\n",
    "    \"\"\"Convert the values in array_x to percents out of the total of array_x.\"\"\"\n",
    "    total = counts.sum()\n",
    "    return np.round((counts/total)*100, 2)"
   ]
  },
  {
   "cell_type": "code",
   "execution_count": 31,
   "metadata": {},
   "outputs": [
    {
     "output_type": "execute_result",
     "data": {
      "text/plain": [
       "Personal Income    | Bachelor's degree or higher | College, less than 4-yr degree | High school or equivalent | No high school diploma\n",
       "$10,000 to $14,999 | 5.31                        | 11                             | 15.61                     | 10.27\n",
       "$15,000 to $24,999 | 9.07                        | 19.9                           | 20.56                     | 17.3\n",
       "$25,000 to $34,999 | 8.14                        | 14.76                          | 10.91                     | 14.04\n",
       "$35,000 to $49,999 | 13.17                       | 12.44                          | 6.12                      | 14.31\n",
       "$5,000 to $9,999   | 3.82                        | 9.95                           | 14.02                     | 10.43\n",
       "$50,000 to $74,999 | 18.7                        | 8.35                           | 3.11                      | 11.37\n",
       "$75,000 and over   | 35.03                       | 5.13                           | 1.38                      | 9.62\n",
       "No Income          | 6.75                        | 18.46                          | 28.29                     | 12.67"
      ],
      "text/html": "<table border=\"1\" class=\"dataframe\">\n    <thead>\n        <tr>\n            <th>Personal Income</th> <th>Bachelor's degree or higher</th> <th>College, less than 4-yr degree</th> <th>High school or equivalent</th> <th>No high school diploma</th>\n        </tr>\n    </thead>\n    <tbody>\n        <tr>\n            <td>$10,000 to $14,999</td> <td>5.31                       </td> <td>11                            </td> <td>15.61                    </td> <td>10.27                 </td>\n        </tr>\n        <tr>\n            <td>$15,000 to $24,999</td> <td>9.07                       </td> <td>19.9                          </td> <td>20.56                    </td> <td>17.3                  </td>\n        </tr>\n        <tr>\n            <td>$25,000 to $34,999</td> <td>8.14                       </td> <td>14.76                         </td> <td>10.91                    </td> <td>14.04                 </td>\n        </tr>\n        <tr>\n            <td>$35,000 to $49,999</td> <td>13.17                      </td> <td>12.44                         </td> <td>6.12                     </td> <td>14.31                 </td>\n        </tr>\n        <tr>\n            <td>$5,000 to $9,999  </td> <td>3.82                       </td> <td>9.95                          </td> <td>14.02                    </td> <td>10.43                 </td>\n        </tr>\n        <tr>\n            <td>$50,000 to $74,999</td> <td>18.7                       </td> <td>8.35                          </td> <td>3.11                     </td> <td>11.37                 </td>\n        </tr>\n        <tr>\n            <td>$75,000 and over  </td> <td>35.03                      </td> <td>5.13                          </td> <td>1.38                     </td> <td>9.62                  </td>\n        </tr>\n        <tr>\n            <td>No Income         </td> <td>6.75                       </td> <td>18.46                         </td> <td>28.29                    </td> <td>12.67                 </td>\n        </tr>\n    </tbody>\n</table>"
     },
     "metadata": {},
     "execution_count": 31
    }
   ],
   "source": [
    "distributions = totals.select(0).with_columns(\n",
    "    \"Bachelor's degree or higher\", percents(totals.column(1)),\n",
    "    'College, less than 4-yr degree', percents(totals.column(2)),\n",
    "    'High school or equivalent', percents(totals.column(3)),\n",
    "    'No high school diploma', percents(totals.column(4))   \n",
    "    )\n",
    "\n",
    "distributions"
   ]
  },
  {
   "cell_type": "code",
   "execution_count": 36,
   "metadata": {},
   "outputs": [],
   "source": [
    "distributions.select(0, 1, 4).barh(0)"
   ]
  },
  {
   "cell_type": "code",
   "execution_count": null,
   "metadata": {},
   "outputs": [],
   "source": []
  }
 ]
}