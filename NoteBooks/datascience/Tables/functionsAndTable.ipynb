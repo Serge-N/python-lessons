{
 "metadata": {
  "language_info": {
   "codemirror_mode": {
    "name": "ipython",
    "version": 3
   },
   "file_extension": ".py",
   "mimetype": "text/x-python",
   "name": "python",
   "nbconvert_exporter": "python",
   "pygments_lexer": "ipython3",
   "version": "3.7.3-final"
  },
  "orig_nbformat": 2,
  "kernelspec": {
   "name": "Python 3.7.3 64-bit",
   "display_name": "Python 3.7.3 64-bit",
   "metadata": {
    "interpreter": {
     "hash": "31f2aee4e71d21fbe5cf8b01ff0e069b9275f58929596ceb00d14d90e3e16cd6"
    }
   }
  }
 },
 "nbformat": 4,
 "nbformat_minor": 2,
 "cells": [
  {
   "cell_type": "code",
   "execution_count": 20,
   "metadata": {},
   "outputs": [],
   "source": [
    "from datascience import *\n",
    "import numpy as np"
   ]
  },
  {
   "cell_type": "code",
   "execution_count": 2,
   "metadata": {},
   "outputs": [],
   "source": [
    "# Our first function definition\n",
    "\n",
    "def double(x):\n",
    "    \"\"\" Double x \"\"\"\n",
    "    return 2*x"
   ]
  },
  {
   "cell_type": "code",
   "execution_count": 3,
   "metadata": {},
   "outputs": [
    {
     "output_type": "stream",
     "name": "stdout",
     "text": [
      "18\n"
     ]
    }
   ],
   "source": [
    "print(double(9))"
   ]
  },
  {
   "cell_type": "code",
   "execution_count": 4,
   "metadata": {},
   "outputs": [
    {
     "output_type": "stream",
     "text": [
      "\u001b[0;31mSignature:\u001b[0m \u001b[0mdouble\u001b[0m\u001b[0;34m(\u001b[0m\u001b[0mx\u001b[0m\u001b[0;34m)\u001b[0m\u001b[0;34m\u001b[0m\u001b[0;34m\u001b[0m\u001b[0m\n",
      "\u001b[0;31mDocstring:\u001b[0m Double x \n",
      "\u001b[0;31mFile:\u001b[0m      ~/python/NoteBooks/datascience/Tables/<ipython-input-2-3656af09cc5c>\n",
      "\u001b[0;31mType:\u001b[0m      function\n"
     ],
     "name": "stdout"
    }
   ],
   "source": [
    "double?"
   ]
  },
  {
   "cell_type": "code",
   "execution_count": 6,
   "metadata": {},
   "outputs": [
    {
     "output_type": "stream",
     "text": [
      "\u001b[0;31mDocstring:\u001b[0m\n",
      "max(iterable, *[, default=obj, key=func]) -> value\n",
      "max(arg1, arg2, *args, *[, key=func]) -> value\n",
      "\n",
      "With a single iterable argument, return its biggest item. The\n",
      "default keyword-only argument specifies an object to return if\n",
      "the provided iterable is empty.\n",
      "With two or more arguments, return the largest argument.\n",
      "\u001b[0;31mType:\u001b[0m      builtin_function_or_method\n"
     ],
     "name": "stdout"
    }
   ],
   "source": [
    "max?"
   ]
  },
  {
   "cell_type": "code",
   "execution_count": 7,
   "metadata": {},
   "outputs": [
    {
     "output_type": "execute_result",
     "data": {
      "text/plain": [
       "array([ 6,  8, 10])"
      ]
     },
     "metadata": {},
     "execution_count": 7
    }
   ],
   "source": [
    "double(make_array(3, 4, 5))"
   ]
  },
  {
   "cell_type": "code",
   "execution_count": 8,
   "metadata": {},
   "outputs": [],
   "source": [
    "# A function with more than one argument\n",
    "\n",
    "def percent(x, total):\n",
    "    \"\"\"Convert x to a percentage of total.\n",
    "    \n",
    "    More precisely, this function divides x by total,\n",
    "    multiplies the result by 100, and rounds the result\n",
    "    to two decimal places.\n",
    "    \n",
    "    >>> percent(4, 16)\n",
    "    25.0\n",
    "    >>> percent(1, 6)\n",
    "    16.67\n",
    "    \"\"\"\n",
    "    return round((x/total)*100, 2)"
   ]
  },
  {
   "cell_type": "code",
   "execution_count": 9,
   "metadata": {},
   "outputs": [
    {
     "output_type": "execute_result",
     "data": {
      "text/plain": [
       "16.5"
      ]
     },
     "metadata": {},
     "execution_count": 9
    }
   ],
   "source": [
    "percent(33, 200)"
   ]
  },
  {
   "cell_type": "code",
   "execution_count": 19,
   "metadata": {},
   "outputs": [],
   "source": [
    "def percents(counts):\n",
    "    \"\"\"Convert the values in array_x to percents out of the total of array_x.\"\"\"\n",
    "    total = counts.sum()\n",
    "    return np.round((counts/total)*100, 2)"
   ]
  },
  {
   "cell_type": "code",
   "execution_count": 21,
   "metadata": {},
   "outputs": [
    {
     "output_type": "execute_result",
     "data": {
      "text/plain": [
       "array([33.33, 47.62, 19.05])"
      ]
     },
     "metadata": {},
     "execution_count": 21
    }
   ],
   "source": [
    "some_array = make_array(7, 10, 4)\n",
    "percents(some_array)"
   ]
  },
  {
   "cell_type": "code",
   "execution_count": 22,
   "metadata": {},
   "outputs": [
    {
     "output_type": "stream",
     "name": "stdout",
     "text": [
      "The biggest difference is 5\n"
     ]
    }
   ],
   "source": [
    "def biggest_difference(array_x):\n",
    "    \"\"\"Find the biggest difference in absolute value between two adjacent elements of array_x.\"\"\"\n",
    "    diffs = np.diff(array_x)\n",
    "    absolute_diffs = abs(diffs)\n",
    "    return max(absolute_diffs)\n",
    "\n",
    "some_numbers = make_array(2, 4, 5, 6, 4, -1, 1)\n",
    "big_diff = biggest_difference(some_numbers)\n",
    "print(\"The biggest difference is\", big_diff)"
   ]
  },
  {
   "cell_type": "code",
   "execution_count": 23,
   "metadata": {},
   "outputs": [
    {
     "output_type": "stream",
     "name": "stdout",
     "text": [
      "Rounded to 1 decimal place:  [28.6 14.3 57.1]\nRounded to 2 decimal places: [28.57 14.29 57.14]\nRounded to 3 decimal places: [28.571 14.286 57.143]\n"
     ]
    }
   ],
   "source": [
    "def percents(counts, decimal_places):\n",
    "    \"\"\"Convert the values in array_x to percents out of the total of array_x.\"\"\"\n",
    "    total = counts.sum()\n",
    "    return np.round((counts/total)*100, decimal_places)\n",
    "\n",
    "parts = make_array(2, 1, 4)\n",
    "print(\"Rounded to 1 decimal place: \", percents(parts, 1))\n",
    "print(\"Rounded to 2 decimal places:\", percents(parts, 2))\n",
    "print(\"Rounded to 3 decimal places:\", percents(parts, 3))"
   ]
  },
  {
   "cell_type": "code",
   "execution_count": 24,
   "metadata": {},
   "outputs": [
    {
     "output_type": "stream",
     "name": "stdout",
     "text": [
      "Rounded to 1 decimal place: [28.6 14.3 57.1]\nRounded to the default number of decimal places: [28.57 14.29 57.14]\n"
     ]
    }
   ],
   "source": [
    "def percents(counts, decimal_places=2):\n",
    "    \"\"\"Convert the values in array_x to percents out of the total of array_x.\"\"\"\n",
    "    total = counts.sum()\n",
    "    return np.round((counts/total)*100, decimal_places)\n",
    "\n",
    "parts = make_array(2, 1, 4)\n",
    "print(\"Rounded to 1 decimal place:\", percents(parts, 1))\n",
    "print(\"Rounded to the default number of decimal places:\", percents(parts))"
   ]
  },
  {
   "cell_type": "code",
   "execution_count": null,
   "metadata": {},
   "outputs": [],
   "source": []
  }
 ]
}