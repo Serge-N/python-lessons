{
 "metadata": {
  "language_info": {
   "codemirror_mode": {
    "name": "ipython",
    "version": 3
   },
   "file_extension": ".py",
   "mimetype": "text/x-python",
   "name": "python",
   "nbconvert_exporter": "python",
   "pygments_lexer": "ipython3",
   "version": "3.7.3-final"
  },
  "orig_nbformat": 2,
  "kernelspec": {
   "name": "Python 3.7.3 64-bit",
   "display_name": "Python 3.7.3 64-bit",
   "metadata": {
    "interpreter": {
     "hash": "31f2aee4e71d21fbe5cf8b01ff0e069b9275f58929596ceb00d14d90e3e16cd6"
    }
   }
  }
 },
 "nbformat": 4,
 "nbformat_minor": 2,
 "cells": [
  {
   "cell_type": "code",
   "execution_count": 4,
   "metadata": {},
   "outputs": [],
   "source": [
    "from datascience import *\n"
   ]
  },
  {
   "cell_type": "code",
   "execution_count": 5,
   "metadata": {
    "tags": []
   },
   "outputs": [
    {
     "output_type": "execute_result",
     "data": {
      "text/plain": [],
      "text/html": "<table border=\"1\" class=\"dataframe\">\n    <thead>\n        <tr>\n            \n        </tr>\n    </thead>\n    <tbody>\n    </tbody>\n</table>"
     },
     "metadata": {},
     "execution_count": 5
    }
   ],
   "source": [
    "Table()\n"
   ]
  },
  {
   "cell_type": "code",
   "execution_count": 6,
   "metadata": {},
   "outputs": [
    {
     "output_type": "execute_result",
     "data": {
      "text/plain": [
       "Number of petals\n",
       "8\n",
       "34\n",
       "5"
      ],
      "text/html": "<table border=\"1\" class=\"dataframe\">\n    <thead>\n        <tr>\n            <th>Number of petals</th>\n        </tr>\n    </thead>\n    <tbody>\n        <tr>\n            <td>8               </td>\n        </tr>\n        <tr>\n            <td>34              </td>\n        </tr>\n        <tr>\n            <td>5               </td>\n        </tr>\n    </tbody>\n</table>"
     },
     "metadata": {},
     "execution_count": 6
    }
   ],
   "source": [
    "Table().with_columns('Number of petals', make_array(8, 34, 5))"
   ]
  },
  {
   "cell_type": "code",
   "execution_count": 5,
   "metadata": {},
   "outputs": [
    {
     "output_type": "execute_result",
     "data": {
      "text/plain": "Number of Vegetables | Name\n8                    | Tomatoes\n34                   | Rape\n5                    | Onion",
      "text/html": "<table border=\"1\" class=\"dataframe\">\n    <thead>\n        <tr>\n            <th>Number of Vegetables</th> <th>Name</th>\n        </tr>\n    </thead>\n    <tbody>\n        <tr>\n            <td>8                   </td> <td>Tomatoes</td>\n        </tr>\n        <tr>\n            <td>34                  </td> <td>Rape    </td>\n        </tr>\n        <tr>\n            <td>5                   </td> <td>Onion   </td>\n        </tr>\n    </tbody>\n</table>"
     },
     "metadata": {},
     "execution_count": 5
    }
   ],
   "source": [
    "Table().with_columns('Number of Vegetables', make_array(8, 34, 5), 'Name', make_array('Tomatoes','Rape','Onion'))"
   ]
  },
  {
   "cell_type": "code",
   "execution_count": 8,
   "metadata": {},
   "outputs": [
    {
     "output_type": "execute_result",
     "data": {
      "text/plain": "Number of Vegetables | Name     | Province\n8                    | Tomatoes | Lusaka\n34                   | Rape     | Luapula\n5                    | Onion    | Copperbelt",
      "text/html": "<table border=\"1\" class=\"dataframe\">\n    <thead>\n        <tr>\n            <th>Number of Vegetables</th> <th>Name</th> <th>Province</th>\n        </tr>\n    </thead>\n    <tbody>\n        <tr>\n            <td>8                   </td> <td>Tomatoes</td> <td>Lusaka    </td>\n        </tr>\n        <tr>\n            <td>34                  </td> <td>Rape    </td> <td>Luapula   </td>\n        </tr>\n        <tr>\n            <td>5                   </td> <td>Onion   </td> <td>Copperbelt</td>\n        </tr>\n    </tbody>\n</table>"
     },
     "metadata": {},
     "execution_count": 8
    }
   ],
   "source": [
    "report = Table().with_columns('Number of Vegetables', make_array(8, 34, 5), 'Name', make_array('Tomatoes','Rape','Onion'))\n",
    "report.with_columns('Province', make_array('Lusaka','Luapula','Copperbelt'))"
   ]
  },
  {
   "cell_type": "code",
   "execution_count": 9,
   "metadata": {},
   "outputs": [
    {
     "output_type": "execute_result",
     "data": {
      "text/plain": "Number of Vegetables | Name\n8                    | Tomatoes\n34                   | Rape\n5                    | Onion",
      "text/html": "<table border=\"1\" class=\"dataframe\">\n    <thead>\n        <tr>\n            <th>Number of Vegetables</th> <th>Name</th>\n        </tr>\n    </thead>\n    <tbody>\n        <tr>\n            <td>8                   </td> <td>Tomatoes</td>\n        </tr>\n        <tr>\n            <td>34                  </td> <td>Rape    </td>\n        </tr>\n        <tr>\n            <td>5                   </td> <td>Onion   </td>\n        </tr>\n    </tbody>\n</table>"
     },
     "metadata": {},
     "execution_count": 9
    }
   ],
   "source": [
    "report"
   ]
  },
  {
   "cell_type": "code",
   "execution_count": 10,
   "metadata": {},
   "outputs": [
    {
     "output_type": "execute_result",
     "data": {
      "text/plain": "2"
     },
     "metadata": {},
     "execution_count": 10
    }
   ],
   "source": [
    "report.num_columns #finds the number of columns"
   ]
  },
  {
   "cell_type": "code",
   "execution_count": 11,
   "metadata": {},
   "outputs": [
    {
     "output_type": "execute_result",
     "data": {
      "text/plain": "3"
     },
     "metadata": {},
     "execution_count": 11
    }
   ],
   "source": [
    "report.num_rows #finds the number of rows"
   ]
  },
  {
   "cell_type": "code",
   "execution_count": 12,
   "metadata": {},
   "outputs": [
    {
     "output_type": "execute_result",
     "data": {
      "text/plain": "(&#39;Number of Vegetables&#39;, &#39;Name&#39;)"
     },
     "metadata": {},
     "execution_count": 12
    }
   ],
   "source": [
    "#list the column labels\n",
    "report.labels"
   ]
  },
  {
   "cell_type": "code",
   "execution_count": 15,
   "metadata": {},
   "outputs": [
    {
     "output_type": "execute_result",
     "data": {
      "text/plain": "# of Vegetables | Name\n8               | Tomatoes\n34              | Rape\n5               | Onion",
      "text/html": "<table border=\"1\" class=\"dataframe\">\n    <thead>\n        <tr>\n            <th># of Vegetables</th> <th>Name</th>\n        </tr>\n    </thead>\n    <tbody>\n        <tr>\n            <td>8              </td> <td>Tomatoes</td>\n        </tr>\n        <tr>\n            <td>34             </td> <td>Rape    </td>\n        </tr>\n        <tr>\n            <td>5              </td> <td>Onion   </td>\n        </tr>\n    </tbody>\n</table>"
     },
     "metadata": {},
     "execution_count": 15
    }
   ],
   "source": [
    "#rename label\n",
    "report.relabel('Number of Vegetables','# of Vegetables')"
   ]
  },
  {
   "cell_type": "code",
   "execution_count": 18,
   "metadata": {},
   "outputs": [
    {
     "output_type": "execute_result",
     "data": {
      "text/plain": "# of Vegetables | Name\n8               | Tomatoes\n34              | Rape\n5               | Onion",
      "text/html": "<table border=\"1\" class=\"dataframe\">\n    <thead>\n        <tr>\n            <th># of Vegetables</th> <th>Name</th>\n        </tr>\n    </thead>\n    <tbody>\n        <tr>\n            <td>8              </td> <td>Tomatoes</td>\n        </tr>\n        <tr>\n            <td>34             </td> <td>Rape    </td>\n        </tr>\n        <tr>\n            <td>5              </td> <td>Onion   </td>\n        </tr>\n    </tbody>\n</table>"
     },
     "metadata": {},
     "execution_count": 18
    }
   ],
   "source": [
    "report"
   ]
  },
  {
   "cell_type": "code",
   "execution_count": 19,
   "metadata": {},
   "outputs": [
    {
     "output_type": "execute_result",
     "data": {
      "text/plain": "array([&#39;Tomatoes&#39;, &#39;Rape&#39;, &#39;Onion&#39;], dtype=&#39;&lt;U8&#39;)"
     },
     "metadata": {},
     "execution_count": 19
    }
   ],
   "source": [
    "#access data in a column\n",
    "report.column('Name')"
   ]
  },
  {
   "cell_type": "code",
   "execution_count": 20,
   "metadata": {},
   "outputs": [
    {
     "output_type": "execute_result",
     "data": {
      "text/plain": "array([&#39;Tomatoes&#39;, &#39;Rape&#39;, &#39;Onion&#39;], dtype=&#39;&lt;U8&#39;)"
     },
     "metadata": {},
     "execution_count": 20
    }
   ],
   "source": [
    "#columns are indexed starting form 0\n",
    "report.column(1)"
   ]
  },
  {
   "cell_type": "code",
   "execution_count": 21,
   "metadata": {},
   "outputs": [
    {
     "output_type": "execute_result",
     "data": {
      "text/plain": "&#39;Rape&#39;"
     },
     "metadata": {},
     "execution_count": 21
    }
   ],
   "source": [
    "report.column(1).item(1)"
   ]
  },
  {
   "cell_type": "code",
   "execution_count": 25,
   "metadata": {},
   "outputs": [
    {
     "output_type": "execute_result",
     "data": {
      "text/plain": "# of Vegetables | Name     | Tomato ratio\n8               | Tomatoes | 1\n34              | Rape     | 4.25\n5               | Onion    | 0.625",
      "text/html": "<table border=\"1\" class=\"dataframe\">\n    <thead>\n        <tr>\n            <th># of Vegetables</th> <th>Name</th> <th>Tomato ratio</th>\n        </tr>\n    </thead>\n    <tbody>\n        <tr>\n            <td>8              </td> <td>Tomatoes</td> <td>1           </td>\n        </tr>\n        <tr>\n            <td>34             </td> <td>Rape    </td> <td>4.25        </td>\n        </tr>\n        <tr>\n            <td>5              </td> <td>Onion   </td> <td>0.625       </td>\n        </tr>\n    </tbody>\n</table>"
     },
     "metadata": {},
     "execution_count": 25
    }
   ],
   "source": [
    "intial = report.column('# of Vegetables').item(0)\n",
    "report = report.with_columns('Tomato ratio', report.column('# of Vegetables')/intial ) \n",
    "report"
   ]
  },
  {
   "cell_type": "code",
   "execution_count": 26,
   "metadata": {},
   "outputs": [
    {
     "output_type": "execute_result",
     "data": {
      "text/plain": "# of Vegetables | Name     | Tomato ratio\n8               | Tomatoes | 100.00%\n34              | Rape     | 425.00%\n5               | Onion    | 62.50%",
      "text/html": "<table border=\"1\" class=\"dataframe\">\n    <thead>\n        <tr>\n            <th># of Vegetables</th> <th>Name</th> <th>Tomato ratio</th>\n        </tr>\n    </thead>\n    <tbody>\n        <tr>\n            <td>8              </td> <td>Tomatoes</td> <td>100.00%     </td>\n        </tr>\n        <tr>\n            <td>34             </td> <td>Rape    </td> <td>425.00%     </td>\n        </tr>\n        <tr>\n            <td>5              </td> <td>Onion   </td> <td>62.50%      </td>\n        </tr>\n    </tbody>\n</table>"
     },
     "metadata": {},
     "execution_count": 26
    }
   ],
   "source": [
    "report.set_format('Tomato ratio', PercentFormatter)"
   ]
  },
  {
   "cell_type": "code",
   "execution_count": 27,
   "metadata": {},
   "outputs": [
    {
     "output_type": "execute_result",
     "data": {
      "text/plain": "# of Vegetables | Name\n8               | Tomatoes\n34              | Rape\n5               | Onion",
      "text/html": "<table border=\"1\" class=\"dataframe\">\n    <thead>\n        <tr>\n            <th># of Vegetables</th> <th>Name</th>\n        </tr>\n    </thead>\n    <tbody>\n        <tr>\n            <td>8              </td> <td>Tomatoes</td>\n        </tr>\n        <tr>\n            <td>34             </td> <td>Rape    </td>\n        </tr>\n        <tr>\n            <td>5              </td> <td>Onion   </td>\n        </tr>\n    </tbody>\n</table>"
     },
     "metadata": {},
     "execution_count": 27
    }
   ],
   "source": [
    "#select\n",
    "report.select(0,1)"
   ]
  },
  {
   "cell_type": "code",
   "execution_count": 28,
   "metadata": {},
   "outputs": [
    {
     "output_type": "execute_result",
     "data": {
      "text/plain": "Tomato ratio\n100.00%\n425.00%\n62.50%",
      "text/html": "<table border=\"1\" class=\"dataframe\">\n    <thead>\n        <tr>\n            <th>Tomato ratio</th>\n        </tr>\n    </thead>\n    <tbody>\n        <tr>\n            <td>100.00%     </td>\n        </tr>\n        <tr>\n            <td>425.00%     </td>\n        </tr>\n        <tr>\n            <td>62.50%      </td>\n        </tr>\n    </tbody>\n</table>"
     },
     "metadata": {},
     "execution_count": 28
    }
   ],
   "source": [
    "report.select('Tomato ratio')"
   ]
  },
  {
   "cell_type": "code",
   "execution_count": 29,
   "metadata": {},
   "outputs": [
    {
     "output_type": "execute_result",
     "data": {
      "text/plain": "# of Vegetables | Name\n8               | Tomatoes\n34              | Rape\n5               | Onion",
      "text/html": "<table border=\"1\" class=\"dataframe\">\n    <thead>\n        <tr>\n            <th># of Vegetables</th> <th>Name</th>\n        </tr>\n    </thead>\n    <tbody>\n        <tr>\n            <td>8              </td> <td>Tomatoes</td>\n        </tr>\n        <tr>\n            <td>34             </td> <td>Rape    </td>\n        </tr>\n        <tr>\n            <td>5              </td> <td>Onion   </td>\n        </tr>\n    </tbody>\n</table>"
     },
     "metadata": {},
     "execution_count": 29
    }
   ],
   "source": [
    "#droping Tables\n",
    "report.drop('Tomato ratio')"
   ]
  },
  {
   "cell_type": "code",
   "execution_count": 30,
   "metadata": {},
   "outputs": [
    {
     "output_type": "execute_result",
     "data": {
      "text/plain": "# of Vegetables | Name     | Tomato ratio\n8               | Tomatoes | 100.00%\n34              | Rape     | 425.00%\n5               | Onion    | 62.50%",
      "text/html": "<table border=\"1\" class=\"dataframe\">\n    <thead>\n        <tr>\n            <th># of Vegetables</th> <th>Name</th> <th>Tomato ratio</th>\n        </tr>\n    </thead>\n    <tbody>\n        <tr>\n            <td>8              </td> <td>Tomatoes</td> <td>100.00%     </td>\n        </tr>\n        <tr>\n            <td>34             </td> <td>Rape    </td> <td>425.00%     </td>\n        </tr>\n        <tr>\n            <td>5              </td> <td>Onion   </td> <td>62.50%      </td>\n        </tr>\n    </tbody>\n</table>"
     },
     "metadata": {},
     "execution_count": 30
    }
   ],
   "source": [
    "report"
   ]
  },
  {
   "cell_type": "code",
   "execution_count": null,
   "metadata": {},
   "outputs": [],
   "source": []
  }
 ]
}