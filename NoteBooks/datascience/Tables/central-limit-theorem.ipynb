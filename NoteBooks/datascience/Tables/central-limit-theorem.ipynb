{
 "metadata": {
  "language_info": {
   "codemirror_mode": {
    "name": "ipython",
    "version": 3
   },
   "file_extension": ".py",
   "mimetype": "text/x-python",
   "name": "python",
   "nbconvert_exporter": "python",
   "pygments_lexer": "ipython3",
   "version": "3.7.3-final"
  },
  "orig_nbformat": 2,
  "kernelspec": {
   "name": "python3",
   "display_name": "Python 3.7.3 64-bit",
   "metadata": {
    "interpreter": {
     "hash": "31f2aee4e71d21fbe5cf8b01ff0e069b9275f58929596ceb00d14d90e3e16cd6"
    }
   }
  }
 },
 "nbformat": 4,
 "nbformat_minor": 2,
 "cells": [
  {
   "cell_type": "code",
   "execution_count": 34,
   "metadata": {},
   "outputs": [],
   "source": [
    "from datascience import *"
   ]
  },
  {
   "cell_type": "code",
   "execution_count": 35,
   "metadata": {},
   "outputs": [],
   "source": [
    "data ='usa.csv'"
   ]
  },
  {
   "cell_type": "code",
   "execution_count": 36,
   "metadata": {},
   "outputs": [],
   "source": [
    "full_census_table = Table.read_table(data)"
   ]
  },
  {
   "cell_type": "code",
   "execution_count": 37,
   "metadata": {},
   "outputs": [
    {
     "output_type": "execute_result",
     "data": {
      "text/plain": [
       "SEX  | AGE  | CENSUS2010POP | ESTIMATESBASE2010 | POPESTIMATE2010 | POPESTIMATE2011 | POPESTIMATE2012 | POPESTIMATE2013 | POPESTIMATE2014 | POPESTIMATE2015\n",
       "0    | 0    | 3944153       | 3944160           | 3951330         | 3963087         | 3926540         | 3931141         | 3949775         | 3978038\n",
       "0    | 1    | 3978070       | 3978090           | 3957888         | 3966551         | 3977939         | 3942872         | 3949776         | 3968564\n",
       "0    | 2    | 4096929       | 4096939           | 4090862         | 3971565         | 3980095         | 3992720         | 3959664         | 3966583\n",
       "0    | 3    | 4119040       | 4119051           | 4111920         | 4102470         | 3983157         | 3992734         | 4007079         | 3974061\n",
       "0    | 4    | 4063170       | 4063186           | 4077551         | 4122294         | 4112849         | 3994449         | 4005716         | 4020035\n",
       "0    | 5    | 4056858       | 4056872           | 4064653         | 4087709         | 4132242         | 4123626         | 4006900         | 4018158\n",
       "0    | 6    | 4066381       | 4066412           | 4073013         | 4074993         | 4097605         | 4142916         | 4135930         | 4019207\n",
       "0    | 7    | 4030579       | 4030594           | 4043046         | 4083225         | 4084913         | 4108349         | 4155326         | 4148360\n",
       "0    | 8    | 4046486       | 4046497           | 4025604         | 4053203         | 4093177         | 4095711         | 4120903         | 4167887\n",
       "0    | 9    | 4148353       | 4148369           | 4125415         | 4035710         | 4063152         | 4104072         | 4108349         | 4133564\n",
       "... (296 rows omitted)"
      ],
      "text/html": "<table border=\"1\" class=\"dataframe\">\n    <thead>\n        <tr>\n            <th>SEX</th> <th>AGE</th> <th>CENSUS2010POP</th> <th>ESTIMATESBASE2010</th> <th>POPESTIMATE2010</th> <th>POPESTIMATE2011</th> <th>POPESTIMATE2012</th> <th>POPESTIMATE2013</th> <th>POPESTIMATE2014</th> <th>POPESTIMATE2015</th>\n        </tr>\n    </thead>\n    <tbody>\n        <tr>\n            <td>0   </td> <td>0   </td> <td>3944153      </td> <td>3944160          </td> <td>3951330        </td> <td>3963087        </td> <td>3926540        </td> <td>3931141        </td> <td>3949775        </td> <td>3978038        </td>\n        </tr>\n        <tr>\n            <td>0   </td> <td>1   </td> <td>3978070      </td> <td>3978090          </td> <td>3957888        </td> <td>3966551        </td> <td>3977939        </td> <td>3942872        </td> <td>3949776        </td> <td>3968564        </td>\n        </tr>\n        <tr>\n            <td>0   </td> <td>2   </td> <td>4096929      </td> <td>4096939          </td> <td>4090862        </td> <td>3971565        </td> <td>3980095        </td> <td>3992720        </td> <td>3959664        </td> <td>3966583        </td>\n        </tr>\n        <tr>\n            <td>0   </td> <td>3   </td> <td>4119040      </td> <td>4119051          </td> <td>4111920        </td> <td>4102470        </td> <td>3983157        </td> <td>3992734        </td> <td>4007079        </td> <td>3974061        </td>\n        </tr>\n        <tr>\n            <td>0   </td> <td>4   </td> <td>4063170      </td> <td>4063186          </td> <td>4077551        </td> <td>4122294        </td> <td>4112849        </td> <td>3994449        </td> <td>4005716        </td> <td>4020035        </td>\n        </tr>\n        <tr>\n            <td>0   </td> <td>5   </td> <td>4056858      </td> <td>4056872          </td> <td>4064653        </td> <td>4087709        </td> <td>4132242        </td> <td>4123626        </td> <td>4006900        </td> <td>4018158        </td>\n        </tr>\n        <tr>\n            <td>0   </td> <td>6   </td> <td>4066381      </td> <td>4066412          </td> <td>4073013        </td> <td>4074993        </td> <td>4097605        </td> <td>4142916        </td> <td>4135930        </td> <td>4019207        </td>\n        </tr>\n        <tr>\n            <td>0   </td> <td>7   </td> <td>4030579      </td> <td>4030594          </td> <td>4043046        </td> <td>4083225        </td> <td>4084913        </td> <td>4108349        </td> <td>4155326        </td> <td>4148360        </td>\n        </tr>\n        <tr>\n            <td>0   </td> <td>8   </td> <td>4046486      </td> <td>4046497          </td> <td>4025604        </td> <td>4053203        </td> <td>4093177        </td> <td>4095711        </td> <td>4120903        </td> <td>4167887        </td>\n        </tr>\n        <tr>\n            <td>0   </td> <td>9   </td> <td>4148353      </td> <td>4148369          </td> <td>4125415        </td> <td>4035710        </td> <td>4063152        </td> <td>4104072        </td> <td>4108349        </td> <td>4133564        </td>\n        </tr>\n    </tbody>\n</table>\n<p>... (296 rows omitted)</p>"
     },
     "metadata": {},
     "execution_count": 37
    }
   ],
   "source": [
    "full_census_table"
   ]
  },
  {
   "cell_type": "code",
   "execution_count": 38,
   "metadata": {},
   "outputs": [
    {
     "output_type": "execute_result",
     "data": {
      "text/plain": [
       "SEX  | AGE  | POPESTIMATE2010 | POPESTIMATE2014\n",
       "0    | 0    | 3951330         | 3949775\n",
       "0    | 1    | 3957888         | 3949776\n",
       "0    | 2    | 4090862         | 3959664\n",
       "0    | 3    | 4111920         | 4007079\n",
       "0    | 4    | 4077551         | 4005716\n",
       "0    | 5    | 4064653         | 4006900\n",
       "0    | 6    | 4073013         | 4135930\n",
       "0    | 7    | 4043046         | 4155326\n",
       "0    | 8    | 4025604         | 4120903\n",
       "0    | 9    | 4125415         | 4108349\n",
       "... (296 rows omitted)"
      ],
      "text/html": "<table border=\"1\" class=\"dataframe\">\n    <thead>\n        <tr>\n            <th>SEX</th> <th>AGE</th> <th>POPESTIMATE2010</th> <th>POPESTIMATE2014</th>\n        </tr>\n    </thead>\n    <tbody>\n        <tr>\n            <td>0   </td> <td>0   </td> <td>3951330        </td> <td>3949775        </td>\n        </tr>\n        <tr>\n            <td>0   </td> <td>1   </td> <td>3957888        </td> <td>3949776        </td>\n        </tr>\n        <tr>\n            <td>0   </td> <td>2   </td> <td>4090862        </td> <td>3959664        </td>\n        </tr>\n        <tr>\n            <td>0   </td> <td>3   </td> <td>4111920        </td> <td>4007079        </td>\n        </tr>\n        <tr>\n            <td>0   </td> <td>4   </td> <td>4077551        </td> <td>4005716        </td>\n        </tr>\n        <tr>\n            <td>0   </td> <td>5   </td> <td>4064653        </td> <td>4006900        </td>\n        </tr>\n        <tr>\n            <td>0   </td> <td>6   </td> <td>4073013        </td> <td>4135930        </td>\n        </tr>\n        <tr>\n            <td>0   </td> <td>7   </td> <td>4043046        </td> <td>4155326        </td>\n        </tr>\n        <tr>\n            <td>0   </td> <td>8   </td> <td>4025604        </td> <td>4120903        </td>\n        </tr>\n        <tr>\n            <td>0   </td> <td>9   </td> <td>4125415        </td> <td>4108349        </td>\n        </tr>\n    </tbody>\n</table>\n<p>... (296 rows omitted)</p>"
     },
     "metadata": {},
     "execution_count": 38
    }
   ],
   "source": [
    "partial_census_table = full_census_table.select('SEX', 'AGE', 'POPESTIMATE2010', 'POPESTIMATE2014')\n",
    "partial_census_table"
   ]
  },
  {
   "cell_type": "code",
   "execution_count": 39,
   "metadata": {},
   "outputs": [
    {
     "output_type": "execute_result",
     "data": {
      "text/plain": [
       "SEX  | AGE  | 2010    | 2014\n",
       "0    | 0    | 3951330 | 3949775\n",
       "0    | 1    | 3957888 | 3949776\n",
       "0    | 2    | 4090862 | 3959664\n",
       "0    | 3    | 4111920 | 4007079\n",
       "0    | 4    | 4077551 | 4005716\n",
       "0    | 5    | 4064653 | 4006900\n",
       "0    | 6    | 4073013 | 4135930\n",
       "0    | 7    | 4043046 | 4155326\n",
       "0    | 8    | 4025604 | 4120903\n",
       "0    | 9    | 4125415 | 4108349\n",
       "... (296 rows omitted)"
      ],
      "text/html": "<table border=\"1\" class=\"dataframe\">\n    <thead>\n        <tr>\n            <th>SEX</th> <th>AGE</th> <th>2010</th> <th>2014</th>\n        </tr>\n    </thead>\n    <tbody>\n        <tr>\n            <td>0   </td> <td>0   </td> <td>3951330</td> <td>3949775</td>\n        </tr>\n        <tr>\n            <td>0   </td> <td>1   </td> <td>3957888</td> <td>3949776</td>\n        </tr>\n        <tr>\n            <td>0   </td> <td>2   </td> <td>4090862</td> <td>3959664</td>\n        </tr>\n        <tr>\n            <td>0   </td> <td>3   </td> <td>4111920</td> <td>4007079</td>\n        </tr>\n        <tr>\n            <td>0   </td> <td>4   </td> <td>4077551</td> <td>4005716</td>\n        </tr>\n        <tr>\n            <td>0   </td> <td>5   </td> <td>4064653</td> <td>4006900</td>\n        </tr>\n        <tr>\n            <td>0   </td> <td>6   </td> <td>4073013</td> <td>4135930</td>\n        </tr>\n        <tr>\n            <td>0   </td> <td>7   </td> <td>4043046</td> <td>4155326</td>\n        </tr>\n        <tr>\n            <td>0   </td> <td>8   </td> <td>4025604</td> <td>4120903</td>\n        </tr>\n        <tr>\n            <td>0   </td> <td>9   </td> <td>4125415</td> <td>4108349</td>\n        </tr>\n    </tbody>\n</table>\n<p>... (296 rows omitted)</p>"
     },
     "metadata": {},
     "execution_count": 39
    }
   ],
   "source": [
    "us_pop = partial_census_table.relabeled('POPESTIMATE2010', '2010').relabeled('POPESTIMATE2014', '2014')\n",
    "us_pop"
   ]
  },
  {
   "cell_type": "code",
   "execution_count": 40,
   "metadata": {},
   "outputs": [
    {
     "output_type": "execute_result",
     "data": {
      "text/plain": [
       "array([  -1555,   -8112, -131198, -104841,  -71835,  -57753,   62917,\n",
       "        112280,   95299,  -17066,  -70120,  -28109,  -42597,   51364,\n",
       "         88225,  -66206, -144693, -189854, -263085, -242373, -147187,\n",
       "        104417,  328724,  484928,  451809,  221942,  247237,   97780,\n",
       "        107699,  181502,  -48905,  280701,  356349,  345083,  542559,\n",
       "        147447,  186512,   79984, -218592, -341956, -528085, -243668,\n",
       "         14986,  240006,  211775, -275930, -452565, -452590, -374925,\n",
       "       -188852, -153824,   -9581,    -396,   96027,  286313,  162886,\n",
       "        302813,  400505,  388913,  461267,  368877,  314258,  190223,\n",
       "        -80557,  781504,  704299,  725725,  791534,  212543,  366465,\n",
       "        402861,  566098,  310125,  251396,  203518,  141878,  211994,\n",
       "        106931,   78429,   58281,  -57188,    1754,   -6674,    7161,\n",
       "         47346,    7934,   32174,   47480,   36745,   51635,   62750,\n",
       "         80872,   64071,   65821,   46553,   25211,   23324,   14196,\n",
       "         12689,    9290,   17216, 9560538,    1906,   -1931,  -65012,\n",
       "        -51676,  -39795,  -32234,   31650,   59693,   51156,   -9347,\n",
       "        -41905,  -20628,  -27813,   23965,   42011,  -41380,  -83607,\n",
       "       -113477, -139989, -112996,  -60629,   71834,  182260,  251226,\n",
       "        231690,  119744,  138550,   66340,   73768,  107559,  -25255,\n",
       "        145400,  181410,  177907,  284146,   73241,   98472,   45351,\n",
       "       -104919, -162006, -272315, -132699,     425,  116978,  109876,\n",
       "       -134479, -215741, -218423, -176904,  -82244,  -79095,   -4381,\n",
       "           640,   48405,  151117,   83228,  156488,  199807,  188772,\n",
       "        227107,  171509,  145255,   83820,  -52889,  368982,  334086,\n",
       "        348929,  382853,  105579,  180090,  194435,  265857,  148053,\n",
       "        118027,   98140,   77297,  104290,   58295,   45922,   36230,\n",
       "         -9989,   14235,   13227,   18531,   34700,   20681,   26647,\n",
       "         28802,   23235,   24389,   28245,   33134,   25802,   25277,\n",
       "         17864,   10820,    9031,    5535,    4013,    2847,    4266,\n",
       "       4867294,   -3461,   -6181,  -66186,  -53165,  -32040,  -25519,\n",
       "         31267,   52587,   44143,   -7719,  -28215,   -7481,  -14784,\n",
       "         27399,   46214,  -24826,  -61086,  -76377, -123096, -129377,\n",
       "        -86558,   32583,  146464,  233702,  220119,  102198,  108687,\n",
       "         31440,   33931,   73943,  -23650,  135301,  174939,  167176,\n",
       "        258413,   74206,   88040,   34633, -113673, -179950, -255770,\n",
       "       -110969,   14561,  123028,  101899, -141451, -236824, -234167,\n",
       "       -198021, -106608,  -74729,   -5200,   -1036,   47622,  135196,\n",
       "         79658,  146325,  200698,  200141,  234160,  197368,  169003,\n",
       "        106403,  -27668,  412522,  370213,  376796,  408681,  106964,\n",
       "        186375,  208426,  300241,  162072,  133369,  105378,   64581,\n",
       "        107704,   48636,   32507,   22051,  -47199,  -12481,  -19901,\n",
       "        -11370,   12646,  -12747,    5527,   18678,   13510,   27246,\n",
       "         34505,   47738,   38269,   40544,   28689,   14391,   14293,\n",
       "          8661,    8676,    6443,   12950, 4693244])"
      ]
     },
     "metadata": {},
     "execution_count": 40
    }
   ],
   "source": [
    "us_pop.column('2014') - us_pop.column('2010')"
   ]
  },
  {
   "cell_type": "code",
   "execution_count": 41,
   "metadata": {},
   "outputs": [
    {
     "output_type": "execute_result",
     "data": {
      "text/plain": [
       "SEX  | AGE  | 2010    | 2014    | Change  | Percent Change\n",
       "0    | 0    | 3951330 | 3949775 | -1555   | -0.04%\n",
       "0    | 1    | 3957888 | 3949776 | -8112   | -0.20%\n",
       "0    | 2    | 4090862 | 3959664 | -131198 | -3.21%\n",
       "0    | 3    | 4111920 | 4007079 | -104841 | -2.55%\n",
       "0    | 4    | 4077551 | 4005716 | -71835  | -1.76%\n",
       "0    | 5    | 4064653 | 4006900 | -57753  | -1.42%\n",
       "0    | 6    | 4073013 | 4135930 | 62917   | 1.54%\n",
       "0    | 7    | 4043046 | 4155326 | 112280  | 2.78%\n",
       "0    | 8    | 4025604 | 4120903 | 95299   | 2.37%\n",
       "0    | 9    | 4125415 | 4108349 | -17066  | -0.41%\n",
       "... (296 rows omitted)"
      ],
      "text/html": "<table border=\"1\" class=\"dataframe\">\n    <thead>\n        <tr>\n            <th>SEX</th> <th>AGE</th> <th>2010</th> <th>2014</th> <th>Change</th> <th>Percent Change</th>\n        </tr>\n    </thead>\n    <tbody>\n        <tr>\n            <td>0   </td> <td>0   </td> <td>3951330</td> <td>3949775</td> <td>-1555  </td> <td>-0.04%        </td>\n        </tr>\n        <tr>\n            <td>0   </td> <td>1   </td> <td>3957888</td> <td>3949776</td> <td>-8112  </td> <td>-0.20%        </td>\n        </tr>\n        <tr>\n            <td>0   </td> <td>2   </td> <td>4090862</td> <td>3959664</td> <td>-131198</td> <td>-3.21%        </td>\n        </tr>\n        <tr>\n            <td>0   </td> <td>3   </td> <td>4111920</td> <td>4007079</td> <td>-104841</td> <td>-2.55%        </td>\n        </tr>\n        <tr>\n            <td>0   </td> <td>4   </td> <td>4077551</td> <td>4005716</td> <td>-71835 </td> <td>-1.76%        </td>\n        </tr>\n        <tr>\n            <td>0   </td> <td>5   </td> <td>4064653</td> <td>4006900</td> <td>-57753 </td> <td>-1.42%        </td>\n        </tr>\n        <tr>\n            <td>0   </td> <td>6   </td> <td>4073013</td> <td>4135930</td> <td>62917  </td> <td>1.54%         </td>\n        </tr>\n        <tr>\n            <td>0   </td> <td>7   </td> <td>4043046</td> <td>4155326</td> <td>112280 </td> <td>2.78%         </td>\n        </tr>\n        <tr>\n            <td>0   </td> <td>8   </td> <td>4025604</td> <td>4120903</td> <td>95299  </td> <td>2.37%         </td>\n        </tr>\n        <tr>\n            <td>0   </td> <td>9   </td> <td>4125415</td> <td>4108349</td> <td>-17066 </td> <td>-0.41%        </td>\n        </tr>\n    </tbody>\n</table>\n<p>... (296 rows omitted)</p>"
     },
     "metadata": {},
     "execution_count": 41
    }
   ],
   "source": [
    "change = us_pop.column('2014') - us_pop.column('2010')\n",
    "census = us_pop.with_columns(\n",
    "    'Change', change,\n",
    "    'Percent Change', change/us_pop.column('2010')\n",
    ")\n",
    "census.set_format('Percent Change', PercentFormatter)"
   ]
  },
  {
   "cell_type": "code",
   "execution_count": 42,
   "metadata": {},
   "outputs": [
    {
     "output_type": "execute_result",
     "data": {
      "text/plain": [
       "SEX  | AGE  | 2010      | 2014      | Change  | Percent Change\n",
       "0    | 999  | 309346863 | 318907401 | 9560538 | 3.09%\n",
       "1    | 999  | 152088043 | 156955337 | 4867294 | 3.20%\n",
       "2    | 999  | 157258820 | 161952064 | 4693244 | 2.98%\n",
       "0    | 67   | 2693707   | 3485241   | 791534  | 29.38%\n",
       "0    | 64   | 2706055   | 3487559   | 781504  | 28.88%\n",
       "0    | 66   | 2621335   | 3347060   | 725725  | 27.69%\n",
       "0    | 65   | 2678525   | 3382824   | 704299  | 26.29%\n",
       "0    | 71   | 1953607   | 2519705   | 566098  | 28.98%\n",
       "0    | 34   | 3822189   | 4364748   | 542559  | 14.19%\n",
       "0    | 23   | 4217228   | 4702156   | 484928  | 11.50%\n",
       "... (296 rows omitted)"
      ],
      "text/html": "<table border=\"1\" class=\"dataframe\">\n    <thead>\n        <tr>\n            <th>SEX</th> <th>AGE</th> <th>2010</th> <th>2014</th> <th>Change</th> <th>Percent Change</th>\n        </tr>\n    </thead>\n    <tbody>\n        <tr>\n            <td>0   </td> <td>999 </td> <td>309346863</td> <td>318907401</td> <td>9560538</td> <td>3.09%         </td>\n        </tr>\n        <tr>\n            <td>1   </td> <td>999 </td> <td>152088043</td> <td>156955337</td> <td>4867294</td> <td>3.20%         </td>\n        </tr>\n        <tr>\n            <td>2   </td> <td>999 </td> <td>157258820</td> <td>161952064</td> <td>4693244</td> <td>2.98%         </td>\n        </tr>\n        <tr>\n            <td>0   </td> <td>67  </td> <td>2693707  </td> <td>3485241  </td> <td>791534 </td> <td>29.38%        </td>\n        </tr>\n        <tr>\n            <td>0   </td> <td>64  </td> <td>2706055  </td> <td>3487559  </td> <td>781504 </td> <td>28.88%        </td>\n        </tr>\n        <tr>\n            <td>0   </td> <td>66  </td> <td>2621335  </td> <td>3347060  </td> <td>725725 </td> <td>27.69%        </td>\n        </tr>\n        <tr>\n            <td>0   </td> <td>65  </td> <td>2678525  </td> <td>3382824  </td> <td>704299 </td> <td>26.29%        </td>\n        </tr>\n        <tr>\n            <td>0   </td> <td>71  </td> <td>1953607  </td> <td>2519705  </td> <td>566098 </td> <td>28.98%        </td>\n        </tr>\n        <tr>\n            <td>0   </td> <td>34  </td> <td>3822189  </td> <td>4364748  </td> <td>542559 </td> <td>14.19%        </td>\n        </tr>\n        <tr>\n            <td>0   </td> <td>23  </td> <td>4217228  </td> <td>4702156  </td> <td>484928 </td> <td>11.50%        </td>\n        </tr>\n    </tbody>\n</table>\n<p>... (296 rows omitted)</p>"
     },
     "metadata": {},
     "execution_count": 42
    }
   ],
   "source": [
    "census.sort('Change', descending=True)"
   ]
  },
  {
   "cell_type": "code",
   "execution_count": 43,
   "metadata": {},
   "outputs": [
    {
     "output_type": "execute_result",
     "data": {
      "text/plain": [
       "SEX  | AGE  | 2010    | 2014\n",
       "0    | 0    | 3951330 | 3949775\n",
       "0    | 1    | 3957888 | 3949776\n",
       "0    | 2    | 4090862 | 3959664\n",
       "0    | 3    | 4111920 | 4007079\n",
       "0    | 4    | 4077551 | 4005716\n",
       "0    | 5    | 4064653 | 4006900\n",
       "0    | 6    | 4073013 | 4135930\n",
       "0    | 7    | 4043046 | 4155326\n",
       "0    | 8    | 4025604 | 4120903\n",
       "0    | 9    | 4125415 | 4108349\n",
       "... (296 rows omitted)"
      ],
      "text/html": "<table border=\"1\" class=\"dataframe\">\n    <thead>\n        <tr>\n            <th>SEX</th> <th>AGE</th> <th>2010</th> <th>2014</th>\n        </tr>\n    </thead>\n    <tbody>\n        <tr>\n            <td>0   </td> <td>0   </td> <td>3951330</td> <td>3949775</td>\n        </tr>\n        <tr>\n            <td>0   </td> <td>1   </td> <td>3957888</td> <td>3949776</td>\n        </tr>\n        <tr>\n            <td>0   </td> <td>2   </td> <td>4090862</td> <td>3959664</td>\n        </tr>\n        <tr>\n            <td>0   </td> <td>3   </td> <td>4111920</td> <td>4007079</td>\n        </tr>\n        <tr>\n            <td>0   </td> <td>4   </td> <td>4077551</td> <td>4005716</td>\n        </tr>\n        <tr>\n            <td>0   </td> <td>5   </td> <td>4064653</td> <td>4006900</td>\n        </tr>\n        <tr>\n            <td>0   </td> <td>6   </td> <td>4073013</td> <td>4135930</td>\n        </tr>\n        <tr>\n            <td>0   </td> <td>7   </td> <td>4043046</td> <td>4155326</td>\n        </tr>\n        <tr>\n            <td>0   </td> <td>8   </td> <td>4025604</td> <td>4120903</td>\n        </tr>\n        <tr>\n            <td>0   </td> <td>9   </td> <td>4125415</td> <td>4108349</td>\n        </tr>\n    </tbody>\n</table>\n<p>... (296 rows omitted)</p>"
     },
     "metadata": {},
     "execution_count": 43
    }
   ],
   "source": [
    "us_pop"
   ]
  },
  {
   "cell_type": "code",
   "execution_count": 44,
   "metadata": {},
   "outputs": [
    {
     "output_type": "execute_result",
     "data": {
      "text/plain": [
       "SEX  | AGE  | 2010  | 2014\n",
       "0    | 97   | 68893 | 83089\n",
       "0    | 98   | 47037 | 59726\n",
       "0    | 99   | 32178 | 41468\n",
       "0    | 100  | 54410 | 71626"
      ],
      "text/html": "<table border=\"1\" class=\"dataframe\">\n    <thead>\n        <tr>\n            <th>SEX</th> <th>AGE</th> <th>2010</th> <th>2014</th>\n        </tr>\n    </thead>\n    <tbody>\n        <tr>\n            <td>0   </td> <td>97  </td> <td>68893</td> <td>83089</td>\n        </tr>\n        <tr>\n            <td>0   </td> <td>98  </td> <td>47037</td> <td>59726</td>\n        </tr>\n        <tr>\n            <td>0   </td> <td>99  </td> <td>32178</td> <td>41468</td>\n        </tr>\n        <tr>\n            <td>0   </td> <td>100 </td> <td>54410</td> <td>71626</td>\n        </tr>\n    </tbody>\n</table>"
     },
     "metadata": {},
     "execution_count": 44
    }
   ],
   "source": [
    "us_pop.where('SEX', are.equal_to(0)).where('AGE', are.between(97, 101))"
   ]
  },
  {
   "cell_type": "code",
   "execution_count": 45,
   "metadata": {},
   "outputs": [
    {
     "output_type": "execute_result",
     "data": {
      "text/plain": [
       "SEX  | AGE  | 2014\n",
       "0    | 999  | 318907401\n",
       "1    | 999  | 156955337\n",
       "2    | 999  | 161952064"
      ],
      "text/html": "<table border=\"1\" class=\"dataframe\">\n    <thead>\n        <tr>\n            <th>SEX</th> <th>AGE</th> <th>2014</th>\n        </tr>\n    </thead>\n    <tbody>\n        <tr>\n            <td>0   </td> <td>999 </td> <td>318907401</td>\n        </tr>\n        <tr>\n            <td>1   </td> <td>999 </td> <td>156955337</td>\n        </tr>\n        <tr>\n            <td>2   </td> <td>999 </td> <td>161952064</td>\n        </tr>\n    </tbody>\n</table>"
     },
     "metadata": {},
     "execution_count": 45
    }
   ],
   "source": [
    "us_pop_2014 = us_pop.drop('2010')\n",
    "all_ages = us_pop_2014.where('AGE', are.equal_to(999))\n",
    "all_ages"
   ]
  },
  {
   "cell_type": "code",
   "execution_count": 46,
   "metadata": {},
   "outputs": [
    {
     "output_type": "execute_result",
     "data": {
      "text/plain": [
       "SEX  | AGE  | 2014      | Proportion\n",
       "0    | 999  | 318907401 | 100.00%\n",
       "1    | 999  | 156955337 | 49.22%\n",
       "2    | 999  | 161952064 | 50.78%"
      ],
      "text/html": "<table border=\"1\" class=\"dataframe\">\n    <thead>\n        <tr>\n            <th>SEX</th> <th>AGE</th> <th>2014</th> <th>Proportion</th>\n        </tr>\n    </thead>\n    <tbody>\n        <tr>\n            <td>0   </td> <td>999 </td> <td>318907401</td> <td>100.00%   </td>\n        </tr>\n        <tr>\n            <td>1   </td> <td>999 </td> <td>156955337</td> <td>49.22%    </td>\n        </tr>\n        <tr>\n            <td>2   </td> <td>999 </td> <td>161952064</td> <td>50.78%    </td>\n        </tr>\n    </tbody>\n</table>"
     },
     "metadata": {},
     "execution_count": 46
    }
   ],
   "source": [
    "pop_2014 = all_ages.column('2014').item(0)\n",
    "all_ages.with_column(\n",
    "    'Proportion', all_ages.column('2014')/pop_2014\n",
    ").set_format('Proportion', PercentFormatter)"
   ]
  },
  {
   "cell_type": "code",
   "execution_count": 47,
   "metadata": {},
   "outputs": [
    {
     "output_type": "execute_result",
     "data": {
      "text/plain": [
       "SEX  | AGE  | 2014\n",
       "0    | 0    | 3949775\n",
       "1    | 0    | 2020326\n",
       "2    | 0    | 1929449"
      ],
      "text/html": "<table border=\"1\" class=\"dataframe\">\n    <thead>\n        <tr>\n            <th>SEX</th> <th>AGE</th> <th>2014</th>\n        </tr>\n    </thead>\n    <tbody>\n        <tr>\n            <td>0   </td> <td>0   </td> <td>3949775</td>\n        </tr>\n        <tr>\n            <td>1   </td> <td>0   </td> <td>2020326</td>\n        </tr>\n        <tr>\n            <td>2   </td> <td>0   </td> <td>1929449</td>\n        </tr>\n    </tbody>\n</table>"
     },
     "metadata": {},
     "execution_count": 47
    }
   ],
   "source": [
    "infants = us_pop_2014.where('AGE', are.equal_to(0))\n",
    "infants"
   ]
  },
  {
   "cell_type": "code",
   "execution_count": 48,
   "metadata": {},
   "outputs": [
    {
     "output_type": "execute_result",
     "data": {
      "text/plain": [
       "SEX  | AGE  | 2014    | Proportion\n",
       "0    | 0    | 3949775 | 100.00%\n",
       "1    | 0    | 2020326 | 51.15%\n",
       "2    | 0    | 1929449 | 48.85%"
      ],
      "text/html": "<table border=\"1\" class=\"dataframe\">\n    <thead>\n        <tr>\n            <th>SEX</th> <th>AGE</th> <th>2014</th> <th>Proportion</th>\n        </tr>\n    </thead>\n    <tbody>\n        <tr>\n            <td>0   </td> <td>0   </td> <td>3949775</td> <td>100.00%   </td>\n        </tr>\n        <tr>\n            <td>1   </td> <td>0   </td> <td>2020326</td> <td>51.15%    </td>\n        </tr>\n        <tr>\n            <td>2   </td> <td>0   </td> <td>1929449</td> <td>48.85%    </td>\n        </tr>\n    </tbody>\n</table>"
     },
     "metadata": {},
     "execution_count": 48
    }
   ],
   "source": [
    "infants_2014 = infants.column('2014').item(0)\n",
    "infants.with_column(\n",
    "    'Proportion', infants.column('2014')/infants_2014\n",
    ").set_format('Proportion', PercentFormatter)"
   ]
  },
  {
   "cell_type": "code",
   "execution_count": 49,
   "metadata": {},
   "outputs": [
    {
     "output_type": "execute_result",
     "data": {
      "text/plain": [
       "SEX  | AGE  | 2014\n",
       "2    | 0    | 1929449\n",
       "2    | 1    | 1931375\n",
       "2    | 2    | 1935991\n",
       "2    | 3    | 1957483\n",
       "2    | 4    | 1961199\n",
       "2    | 5    | 1962561\n",
       "2    | 6    | 2024870\n",
       "2    | 7    | 2032494\n",
       "2    | 8    | 2015285\n",
       "2    | 9    | 2010659\n",
       "... (91 rows omitted)"
      ],
      "text/html": "<table border=\"1\" class=\"dataframe\">\n    <thead>\n        <tr>\n            <th>SEX</th> <th>AGE</th> <th>2014</th>\n        </tr>\n    </thead>\n    <tbody>\n        <tr>\n            <td>2   </td> <td>0   </td> <td>1929449</td>\n        </tr>\n        <tr>\n            <td>2   </td> <td>1   </td> <td>1931375</td>\n        </tr>\n        <tr>\n            <td>2   </td> <td>2   </td> <td>1935991</td>\n        </tr>\n        <tr>\n            <td>2   </td> <td>3   </td> <td>1957483</td>\n        </tr>\n        <tr>\n            <td>2   </td> <td>4   </td> <td>1961199</td>\n        </tr>\n        <tr>\n            <td>2   </td> <td>5   </td> <td>1962561</td>\n        </tr>\n        <tr>\n            <td>2   </td> <td>6   </td> <td>2024870</td>\n        </tr>\n        <tr>\n            <td>2   </td> <td>7   </td> <td>2032494</td>\n        </tr>\n        <tr>\n            <td>2   </td> <td>8   </td> <td>2015285</td>\n        </tr>\n        <tr>\n            <td>2   </td> <td>9   </td> <td>2010659</td>\n        </tr>\n    </tbody>\n</table>\n<p>... (91 rows omitted)</p>"
     },
     "metadata": {},
     "execution_count": 49
    }
   ],
   "source": [
    "females_all_rows = us_pop_2014.where('SEX', are.equal_to(2))\n",
    "females = females_all_rows.where('AGE', are.not_equal_to(999))\n",
    "females"
   ]
  },
  {
   "cell_type": "code",
   "execution_count": 50,
   "metadata": {},
   "outputs": [
    {
     "output_type": "execute_result",
     "data": {
      "text/plain": [
       "SEX  | AGE  | 2014\n",
       "1    | 0    | 2020326\n",
       "1    | 1    | 2018401\n",
       "1    | 2    | 2023673\n",
       "1    | 3    | 2049596\n",
       "1    | 4    | 2044517\n",
       "1    | 5    | 2044339\n",
       "1    | 6    | 2111060\n",
       "1    | 7    | 2122832\n",
       "1    | 8    | 2105618\n",
       "1    | 9    | 2097690\n",
       "... (91 rows omitted)"
      ],
      "text/html": "<table border=\"1\" class=\"dataframe\">\n    <thead>\n        <tr>\n            <th>SEX</th> <th>AGE</th> <th>2014</th>\n        </tr>\n    </thead>\n    <tbody>\n        <tr>\n            <td>1   </td> <td>0   </td> <td>2020326</td>\n        </tr>\n        <tr>\n            <td>1   </td> <td>1   </td> <td>2018401</td>\n        </tr>\n        <tr>\n            <td>1   </td> <td>2   </td> <td>2023673</td>\n        </tr>\n        <tr>\n            <td>1   </td> <td>3   </td> <td>2049596</td>\n        </tr>\n        <tr>\n            <td>1   </td> <td>4   </td> <td>2044517</td>\n        </tr>\n        <tr>\n            <td>1   </td> <td>5   </td> <td>2044339</td>\n        </tr>\n        <tr>\n            <td>1   </td> <td>6   </td> <td>2111060</td>\n        </tr>\n        <tr>\n            <td>1   </td> <td>7   </td> <td>2122832</td>\n        </tr>\n        <tr>\n            <td>1   </td> <td>8   </td> <td>2105618</td>\n        </tr>\n        <tr>\n            <td>1   </td> <td>9   </td> <td>2097690</td>\n        </tr>\n    </tbody>\n</table>\n<p>... (91 rows omitted)</p>"
     },
     "metadata": {},
     "execution_count": 50
    }
   ],
   "source": [
    "males_all_rows = us_pop_2014.where('SEX', are.equal_to(1))\n",
    "males = males_all_rows.where('AGE', are.not_equal_to(999))\n",
    "males"
   ]
  },
  {
   "cell_type": "code",
   "execution_count": 51,
   "metadata": {},
   "outputs": [
    {
     "output_type": "execute_result",
     "data": {
      "text/plain": [
       "array([  0,   1,   2,   3,   4,   5,   6,   7,   8,   9,  10,  11,  12,\n",
       "        13,  14,  15,  16,  17,  18,  19,  20,  21,  22,  23,  24,  25,\n",
       "        26,  27,  28,  29,  30,  31,  32,  33,  34,  35,  36,  37,  38,\n",
       "        39,  40,  41,  42,  43,  44,  45,  46,  47,  48,  49,  50,  51,\n",
       "        52,  53,  54,  55,  56,  57,  58,  59,  60,  61,  62,  63,  64,\n",
       "        65,  66,  67,  68,  69,  70,  71,  72,  73,  74,  75,  76,  77,\n",
       "        78,  79,  80,  81,  82,  83,  84,  85,  86,  87,  88,  89,  90,\n",
       "        91,  92,  93,  94,  95,  96,  97,  98,  99, 100])"
      ]
     },
     "metadata": {},
     "execution_count": 51
    }
   ],
   "source": [
    "males.column('AGE')"
   ]
  },
  {
   "cell_type": "code",
   "execution_count": 52,
   "metadata": {},
   "outputs": [
    {
     "output_type": "execute_result",
     "data": {
      "text/plain": [
       "array([  0,   1,   2,   3,   4,   5,   6,   7,   8,   9,  10,  11,  12,\n",
       "        13,  14,  15,  16,  17,  18,  19,  20,  21,  22,  23,  24,  25,\n",
       "        26,  27,  28,  29,  30,  31,  32,  33,  34,  35,  36,  37,  38,\n",
       "        39,  40,  41,  42,  43,  44,  45,  46,  47,  48,  49,  50,  51,\n",
       "        52,  53,  54,  55,  56,  57,  58,  59,  60,  61,  62,  63,  64,\n",
       "        65,  66,  67,  68,  69,  70,  71,  72,  73,  74,  75,  76,  77,\n",
       "        78,  79,  80,  81,  82,  83,  84,  85,  86,  87,  88,  89,  90,\n",
       "        91,  92,  93,  94,  95,  96,  97,  98,  99, 100])"
      ]
     },
     "metadata": {},
     "execution_count": 52
    }
   ],
   "source": [
    "females.column('AGE')"
   ]
  },
  {
   "cell_type": "code",
   "execution_count": 53,
   "metadata": {},
   "outputs": [
    {
     "output_type": "execute_result",
     "data": {
      "text/plain": [
       "AGE  | 2014 F:M RATIO\n",
       "0    | 0.955019\n",
       "1    | 0.956884\n",
       "2    | 0.956672\n",
       "3    | 0.955058\n",
       "4    | 0.959248\n",
       "5    | 0.959998\n",
       "6    | 0.959172\n",
       "7    | 0.957445\n",
       "8    | 0.957099\n",
       "9    | 0.958511\n",
       "... (91 rows omitted)"
      ],
      "text/html": "<table border=\"1\" class=\"dataframe\">\n    <thead>\n        <tr>\n            <th>AGE</th> <th>2014 F:M RATIO</th>\n        </tr>\n    </thead>\n    <tbody>\n        <tr>\n            <td>0   </td> <td>0.955019      </td>\n        </tr>\n        <tr>\n            <td>1   </td> <td>0.956884      </td>\n        </tr>\n        <tr>\n            <td>2   </td> <td>0.956672      </td>\n        </tr>\n        <tr>\n            <td>3   </td> <td>0.955058      </td>\n        </tr>\n        <tr>\n            <td>4   </td> <td>0.959248      </td>\n        </tr>\n        <tr>\n            <td>5   </td> <td>0.959998      </td>\n        </tr>\n        <tr>\n            <td>6   </td> <td>0.959172      </td>\n        </tr>\n        <tr>\n            <td>7   </td> <td>0.957445      </td>\n        </tr>\n        <tr>\n            <td>8   </td> <td>0.957099      </td>\n        </tr>\n        <tr>\n            <td>9   </td> <td>0.958511      </td>\n        </tr>\n    </tbody>\n</table>\n<p>... (91 rows omitted)</p>"
     },
     "metadata": {},
     "execution_count": 53
    }
   ],
   "source": [
    "ratios = Table().with_columns(\n",
    "    'AGE', females.column('AGE'),\n",
    "    '2014 F:M RATIO', females.column('2014')/males.column('2014')\n",
    ")\n",
    "ratios"
   ]
  },
  {
   "cell_type": "code",
   "execution_count": 54,
   "metadata": {},
   "outputs": [
    {
     "output_type": "display_data",
     "data": {
      "text/plain": "<IPython.core.display.HTML object>",
      "text/html": "<table border=\"1\" class=\"dataframe\">\n    <thead>\n        <tr>\n            <th>AGE</th> <th>2014 F:M RATIO</th>\n        </tr>\n    </thead>\n    <tbody>\n        <tr>\n            <td>76  </td> <td>1.23487       </td>\n        </tr>\n        <tr>\n            <td>77  </td> <td>1.25797       </td>\n        </tr>\n        <tr>\n            <td>78  </td> <td>1.28244       </td>\n        </tr>\n        <tr>\n            <td>79  </td> <td>1.31627       </td>\n        </tr>\n        <tr>\n            <td>80  </td> <td>1.34138       </td>\n        </tr>\n        <tr>\n            <td>81  </td> <td>1.37967       </td>\n        </tr>\n        <tr>\n            <td>82  </td> <td>1.41932       </td>\n        </tr>\n        <tr>\n            <td>83  </td> <td>1.46552       </td>\n        </tr>\n        <tr>\n            <td>84  </td> <td>1.52048       </td>\n        </tr>\n        <tr>\n            <td>85  </td> <td>1.5756        </td>\n        </tr>\n        <tr>\n            <td>86  </td> <td>1.65096       </td>\n        </tr>\n        <tr>\n            <td>87  </td> <td>1.72172       </td>\n        </tr>\n        <tr>\n            <td>88  </td> <td>1.81223       </td>\n        </tr>\n        <tr>\n            <td>89  </td> <td>1.91837       </td>\n        </tr>\n        <tr>\n            <td>90  </td> <td>2.01263       </td>\n        </tr>\n        <tr>\n            <td>91  </td> <td>2.09488       </td>\n        </tr>\n        <tr>\n            <td>92  </td> <td>2.2299        </td>\n        </tr>\n        <tr>\n            <td>93  </td> <td>2.33359       </td>\n        </tr>\n        <tr>\n            <td>94  </td> <td>2.52285       </td>\n        </tr>\n        <tr>\n            <td>95  </td> <td>2.67253       </td>\n        </tr>\n        <tr>\n            <td>96  </td> <td>2.87998       </td>\n        </tr>\n        <tr>\n            <td>97  </td> <td>3.09104       </td>\n        </tr>\n        <tr>\n            <td>98  </td> <td>3.41826       </td>\n        </tr>\n        <tr>\n            <td>99  </td> <td>3.63278       </td>\n        </tr>\n        <tr>\n            <td>100 </td> <td>4.25966       </td>\n        </tr>\n    </tbody>\n</table>"
     },
     "metadata": {}
    }
   ],
   "source": [
    "ratios.where('AGE', are.above(75)).show()"
   ]
  },
  {
   "cell_type": "code",
   "execution_count": 58,
   "metadata": {},
   "outputs": [
    {
     "output_type": "execute_result",
     "data": {
      "text/plain": [
       "SEX  | AGE  | 2014\n",
       "1    | 98   | 13518\n",
       "1    | 99   | 8951"
      ],
      "text/html": "<table border=\"1\" class=\"dataframe\">\n    <thead>\n        <tr>\n            <th>SEX</th> <th>AGE</th> <th>2014</th>\n        </tr>\n    </thead>\n    <tbody>\n        <tr>\n            <td>1   </td> <td>98  </td> <td>13518</td>\n        </tr>\n        <tr>\n            <td>1   </td> <td>99  </td> <td>8951 </td>\n        </tr>\n    </tbody>\n</table>"
     },
     "metadata": {},
     "execution_count": 58
    }
   ],
   "source": [
    "males.where('AGE', are.between(98, 100))"
   ]
  },
  {
   "cell_type": "code",
   "execution_count": 56,
   "metadata": {},
   "outputs": [
    {
     "output_type": "stream",
     "name": "stdout",
     "text": [
      "Help on method plot in module datascience.tables:\n\nplot(column_for_xticks=None, select=None, overlay=True, width=None, height=None, **vargs) method of datascience.tables.Table instance\n    Plot line charts for the table. Redirects to ``Table#iplot`` for plotly charts if interactive\n    plots are enabled with ``Table#interactive_plots``\n    \n    Args:\n        column_for_xticks (``str/array``): A column containing x-axis labels\n    \n    Kwargs:\n        overlay (bool): create a chart with one color per data column;\n            if False, each plot will be displayed separately.\n    \n        show (bool): whether to show the figure if using interactive plots; if false, the figure \n            is returned instead\n    \n        vargs: Additional arguments that get passed into `plt.plot`.\n            See http://matplotlib.org/api/pyplot_api.html#matplotlib.pyplot.plot\n            for additional arguments that can be passed into vargs.\n    Raises:\n        ValueError -- Every selected column must be numerical.\n    \n    Returns:\n        Returns a line plot (connected scatter). Each plot is labeled using\n        the values in `column_for_xticks` and one plot is produced for all\n        other columns in self (or for the columns designated by `select`).\n    \n    >>> table = Table().with_columns(\n    ...     'days',  make_array(0, 1, 2, 3, 4, 5),\n    ...     'price', make_array(90.5, 90.00, 83.00, 95.50, 82.00, 82.00),\n    ...     'projection', make_array(90.75, 82.00, 82.50, 82.50, 83.00, 82.50))\n    >>> table\n    days | price | projection\n    0    | 90.5  | 90.75\n    1    | 90    | 82\n    2    | 83    | 82.5\n    3    | 95.5  | 82.5\n    4    | 82    | 83\n    5    | 82    | 82.5\n    >>> table.plot('days') # doctest: +SKIP\n    <line graph with days as x-axis and lines for price and projection>\n    >>> table.plot('days', overlay=False) # doctest: +SKIP\n    <line graph with days as x-axis and line for price>\n    <line graph with days as x-axis and line for projection>\n    >>> table.plot('days', 'price') # doctest: +SKIP\n    <line graph with days as x-axis and line for price>\n\n"
     ]
    }
   ],
   "source": [
    "help(ratios.plot)"
   ]
  },
  {
   "cell_type": "code",
   "execution_count": 59,
   "metadata": {},
   "outputs": [
    {
     "output_type": "display_data",
     "data": {
      "text/plain": "<Figure size 432x432 with 1 Axes>",
      "image/svg+xml": "<?xml version=\"1.0\" encoding=\"utf-8\" standalone=\"no\"?>\n<!DOCTYPE svg PUBLIC \"-//W3C//DTD SVG 1.1//EN\"\n  \"http://www.w3.org/Graphics/SVG/1.1/DTD/svg11.dtd\">\n<!-- Created with matplotlib (https://matplotlib.org/) -->\n<svg height=\"376.723125pt\" version=\"1.1\" viewBox=\"0 0 391.588125 376.723125\" width=\"391.588125pt\" xmlns=\"http://www.w3.org/2000/svg\" xmlns:xlink=\"http://www.w3.org/1999/xlink\">\n <metadata>\n  <rdf:RDF xmlns:cc=\"http://creativecommons.org/ns#\" xmlns:dc=\"http://purl.org/dc/elements/1.1/\" xmlns:rdf=\"http://www.w3.org/1999/02/22-rdf-syntax-ns#\">\n   <cc:Work>\n    <dc:type rdf:resource=\"http://purl.org/dc/dcmitype/StillImage\"/>\n    <dc:date>2020-12-14T18:10:10.606576</dc:date>\n    <dc:format>image/svg+xml</dc:format>\n    <dc:creator>\n     <cc:Agent>\n      <dc:title>Matplotlib v3.3.3, https://matplotlib.org/</dc:title>\n     </cc:Agent>\n    </dc:creator>\n   </cc:Work>\n  </rdf:RDF>\n </metadata>\n <defs>\n  <style type=\"text/css\">*{stroke-linecap:butt;stroke-linejoin:round;}</style>\n </defs>\n <g id=\"figure_1\">\n  <g id=\"patch_1\">\n   <path d=\"M 0 376.723125 \nL 391.588125 376.723125 \nL 391.588125 0 \nL 0 0 \nz\n\" style=\"fill:none;\"/>\n  </g>\n  <g id=\"axes_1\">\n   <g id=\"patch_2\">\n    <path d=\"M 49.588125 333.36 \nL 384.388125 333.36 \nL 384.388125 7.2 \nL 49.588125 7.2 \nz\n\" style=\"fill:#ffffff;\"/>\n   </g>\n   <g id=\"matplotlib.axis_1\">\n    <g id=\"xtick_1\">\n     <g id=\"line2d_1\">\n      <defs>\n       <path d=\"M 0 0 \nL 0 3.5 \n\" id=\"mce259389e8\" style=\"stroke:#000000;stroke-width:0.8;\"/>\n      </defs>\n      <g>\n       <use style=\"stroke:#000000;stroke-width:0.8;\" x=\"64.806307\" xlink:href=\"#mce259389e8\" y=\"333.36\"/>\n      </g>\n     </g>\n     <g id=\"text_1\">\n      <!-- 0 -->\n      <g transform=\"translate(61.625057 347.958438)scale(0.1 -0.1)\">\n       <defs>\n        <path d=\"M 31.78125 66.40625 \nQ 24.171875 66.40625 20.328125 58.90625 \nQ 16.5 51.421875 16.5 36.375 \nQ 16.5 21.390625 20.328125 13.890625 \nQ 24.171875 6.390625 31.78125 6.390625 \nQ 39.453125 6.390625 43.28125 13.890625 \nQ 47.125 21.390625 47.125 36.375 \nQ 47.125 51.421875 43.28125 58.90625 \nQ 39.453125 66.40625 31.78125 66.40625 \nz\nM 31.78125 74.21875 \nQ 44.046875 74.21875 50.515625 64.515625 \nQ 56.984375 54.828125 56.984375 36.375 \nQ 56.984375 17.96875 50.515625 8.265625 \nQ 44.046875 -1.421875 31.78125 -1.421875 \nQ 19.53125 -1.421875 13.0625 8.265625 \nQ 6.59375 17.96875 6.59375 36.375 \nQ 6.59375 54.828125 13.0625 64.515625 \nQ 19.53125 74.21875 31.78125 74.21875 \nz\n\" id=\"DejaVuSans-48\"/>\n       </defs>\n       <use xlink:href=\"#DejaVuSans-48\"/>\n      </g>\n     </g>\n    </g>\n    <g id=\"xtick_2\">\n     <g id=\"line2d_2\">\n      <g>\n       <use style=\"stroke:#000000;stroke-width:0.8;\" x=\"125.679034\" xlink:href=\"#mce259389e8\" y=\"333.36\"/>\n      </g>\n     </g>\n     <g id=\"text_2\">\n      <!-- 20 -->\n      <g transform=\"translate(119.316534 347.958438)scale(0.1 -0.1)\">\n       <defs>\n        <path d=\"M 19.1875 8.296875 \nL 53.609375 8.296875 \nL 53.609375 0 \nL 7.328125 0 \nL 7.328125 8.296875 \nQ 12.9375 14.109375 22.625 23.890625 \nQ 32.328125 33.6875 34.8125 36.53125 \nQ 39.546875 41.84375 41.421875 45.53125 \nQ 43.3125 49.21875 43.3125 52.78125 \nQ 43.3125 58.59375 39.234375 62.25 \nQ 35.15625 65.921875 28.609375 65.921875 \nQ 23.96875 65.921875 18.8125 64.3125 \nQ 13.671875 62.703125 7.8125 59.421875 \nL 7.8125 69.390625 \nQ 13.765625 71.78125 18.9375 73 \nQ 24.125 74.21875 28.421875 74.21875 \nQ 39.75 74.21875 46.484375 68.546875 \nQ 53.21875 62.890625 53.21875 53.421875 \nQ 53.21875 48.921875 51.53125 44.890625 \nQ 49.859375 40.875 45.40625 35.40625 \nQ 44.1875 33.984375 37.640625 27.21875 \nQ 31.109375 20.453125 19.1875 8.296875 \nz\n\" id=\"DejaVuSans-50\"/>\n       </defs>\n       <use xlink:href=\"#DejaVuSans-50\"/>\n       <use x=\"63.623047\" xlink:href=\"#DejaVuSans-48\"/>\n      </g>\n     </g>\n    </g>\n    <g id=\"xtick_3\">\n     <g id=\"line2d_3\">\n      <g>\n       <use style=\"stroke:#000000;stroke-width:0.8;\" x=\"186.551761\" xlink:href=\"#mce259389e8\" y=\"333.36\"/>\n      </g>\n     </g>\n     <g id=\"text_3\">\n      <!-- 40 -->\n      <g transform=\"translate(180.189261 347.958438)scale(0.1 -0.1)\">\n       <defs>\n        <path d=\"M 37.796875 64.3125 \nL 12.890625 25.390625 \nL 37.796875 25.390625 \nz\nM 35.203125 72.90625 \nL 47.609375 72.90625 \nL 47.609375 25.390625 \nL 58.015625 25.390625 \nL 58.015625 17.1875 \nL 47.609375 17.1875 \nL 47.609375 0 \nL 37.796875 0 \nL 37.796875 17.1875 \nL 4.890625 17.1875 \nL 4.890625 26.703125 \nz\n\" id=\"DejaVuSans-52\"/>\n       </defs>\n       <use xlink:href=\"#DejaVuSans-52\"/>\n       <use x=\"63.623047\" xlink:href=\"#DejaVuSans-48\"/>\n      </g>\n     </g>\n    </g>\n    <g id=\"xtick_4\">\n     <g id=\"line2d_4\">\n      <g>\n       <use style=\"stroke:#000000;stroke-width:0.8;\" x=\"247.424489\" xlink:href=\"#mce259389e8\" y=\"333.36\"/>\n      </g>\n     </g>\n     <g id=\"text_4\">\n      <!-- 60 -->\n      <g transform=\"translate(241.061989 347.958438)scale(0.1 -0.1)\">\n       <defs>\n        <path d=\"M 33.015625 40.375 \nQ 26.375 40.375 22.484375 35.828125 \nQ 18.609375 31.296875 18.609375 23.390625 \nQ 18.609375 15.53125 22.484375 10.953125 \nQ 26.375 6.390625 33.015625 6.390625 \nQ 39.65625 6.390625 43.53125 10.953125 \nQ 47.40625 15.53125 47.40625 23.390625 \nQ 47.40625 31.296875 43.53125 35.828125 \nQ 39.65625 40.375 33.015625 40.375 \nz\nM 52.59375 71.296875 \nL 52.59375 62.3125 \nQ 48.875 64.0625 45.09375 64.984375 \nQ 41.3125 65.921875 37.59375 65.921875 \nQ 27.828125 65.921875 22.671875 59.328125 \nQ 17.53125 52.734375 16.796875 39.40625 \nQ 19.671875 43.65625 24.015625 45.921875 \nQ 28.375 48.1875 33.59375 48.1875 \nQ 44.578125 48.1875 50.953125 41.515625 \nQ 57.328125 34.859375 57.328125 23.390625 \nQ 57.328125 12.15625 50.6875 5.359375 \nQ 44.046875 -1.421875 33.015625 -1.421875 \nQ 20.359375 -1.421875 13.671875 8.265625 \nQ 6.984375 17.96875 6.984375 36.375 \nQ 6.984375 53.65625 15.1875 63.9375 \nQ 23.390625 74.21875 37.203125 74.21875 \nQ 40.921875 74.21875 44.703125 73.484375 \nQ 48.484375 72.75 52.59375 71.296875 \nz\n\" id=\"DejaVuSans-54\"/>\n       </defs>\n       <use xlink:href=\"#DejaVuSans-54\"/>\n       <use x=\"63.623047\" xlink:href=\"#DejaVuSans-48\"/>\n      </g>\n     </g>\n    </g>\n    <g id=\"xtick_5\">\n     <g id=\"line2d_5\">\n      <g>\n       <use style=\"stroke:#000000;stroke-width:0.8;\" x=\"308.297216\" xlink:href=\"#mce259389e8\" y=\"333.36\"/>\n      </g>\n     </g>\n     <g id=\"text_5\">\n      <!-- 80 -->\n      <g transform=\"translate(301.934716 347.958438)scale(0.1 -0.1)\">\n       <defs>\n        <path d=\"M 31.78125 34.625 \nQ 24.75 34.625 20.71875 30.859375 \nQ 16.703125 27.09375 16.703125 20.515625 \nQ 16.703125 13.921875 20.71875 10.15625 \nQ 24.75 6.390625 31.78125 6.390625 \nQ 38.8125 6.390625 42.859375 10.171875 \nQ 46.921875 13.96875 46.921875 20.515625 \nQ 46.921875 27.09375 42.890625 30.859375 \nQ 38.875 34.625 31.78125 34.625 \nz\nM 21.921875 38.8125 \nQ 15.578125 40.375 12.03125 44.71875 \nQ 8.5 49.078125 8.5 55.328125 \nQ 8.5 64.0625 14.71875 69.140625 \nQ 20.953125 74.21875 31.78125 74.21875 \nQ 42.671875 74.21875 48.875 69.140625 \nQ 55.078125 64.0625 55.078125 55.328125 \nQ 55.078125 49.078125 51.53125 44.71875 \nQ 48 40.375 41.703125 38.8125 \nQ 48.828125 37.15625 52.796875 32.3125 \nQ 56.78125 27.484375 56.78125 20.515625 \nQ 56.78125 9.90625 50.3125 4.234375 \nQ 43.84375 -1.421875 31.78125 -1.421875 \nQ 19.734375 -1.421875 13.25 4.234375 \nQ 6.78125 9.90625 6.78125 20.515625 \nQ 6.78125 27.484375 10.78125 32.3125 \nQ 14.796875 37.15625 21.921875 38.8125 \nz\nM 18.3125 54.390625 \nQ 18.3125 48.734375 21.84375 45.5625 \nQ 25.390625 42.390625 31.78125 42.390625 \nQ 38.140625 42.390625 41.71875 45.5625 \nQ 45.3125 48.734375 45.3125 54.390625 \nQ 45.3125 60.0625 41.71875 63.234375 \nQ 38.140625 66.40625 31.78125 66.40625 \nQ 25.390625 66.40625 21.84375 63.234375 \nQ 18.3125 60.0625 18.3125 54.390625 \nz\n\" id=\"DejaVuSans-56\"/>\n       </defs>\n       <use xlink:href=\"#DejaVuSans-56\"/>\n       <use x=\"63.623047\" xlink:href=\"#DejaVuSans-48\"/>\n      </g>\n     </g>\n    </g>\n    <g id=\"xtick_6\">\n     <g id=\"line2d_6\">\n      <g>\n       <use style=\"stroke:#000000;stroke-width:0.8;\" x=\"369.169943\" xlink:href=\"#mce259389e8\" y=\"333.36\"/>\n      </g>\n     </g>\n     <g id=\"text_6\">\n      <!-- 100 -->\n      <g transform=\"translate(359.626193 347.958438)scale(0.1 -0.1)\">\n       <defs>\n        <path d=\"M 12.40625 8.296875 \nL 28.515625 8.296875 \nL 28.515625 63.921875 \nL 10.984375 60.40625 \nL 10.984375 69.390625 \nL 28.421875 72.90625 \nL 38.28125 72.90625 \nL 38.28125 8.296875 \nL 54.390625 8.296875 \nL 54.390625 0 \nL 12.40625 0 \nz\n\" id=\"DejaVuSans-49\"/>\n       </defs>\n       <use xlink:href=\"#DejaVuSans-49\"/>\n       <use x=\"63.623047\" xlink:href=\"#DejaVuSans-48\"/>\n       <use x=\"127.246094\" xlink:href=\"#DejaVuSans-48\"/>\n      </g>\n     </g>\n    </g>\n    <g id=\"text_7\">\n     <!-- AGE -->\n     <g transform=\"translate(200.401875 366.195625)scale(0.16 -0.16)\">\n      <defs>\n       <path d=\"M 34.1875 63.1875 \nL 20.796875 26.90625 \nL 47.609375 26.90625 \nz\nM 28.609375 72.90625 \nL 39.796875 72.90625 \nL 67.578125 0 \nL 57.328125 0 \nL 50.6875 18.703125 \nL 17.828125 18.703125 \nL 11.1875 0 \nL 0.78125 0 \nz\n\" id=\"DejaVuSans-65\"/>\n       <path d=\"M 59.515625 10.40625 \nL 59.515625 29.984375 \nL 43.40625 29.984375 \nL 43.40625 38.09375 \nL 69.28125 38.09375 \nL 69.28125 6.78125 \nQ 63.578125 2.734375 56.6875 0.65625 \nQ 49.8125 -1.421875 42 -1.421875 \nQ 24.90625 -1.421875 15.25 8.5625 \nQ 5.609375 18.5625 5.609375 36.375 \nQ 5.609375 54.25 15.25 64.234375 \nQ 24.90625 74.21875 42 74.21875 \nQ 49.125 74.21875 55.546875 72.453125 \nQ 61.96875 70.703125 67.390625 67.28125 \nL 67.390625 56.78125 \nQ 61.921875 61.421875 55.765625 63.765625 \nQ 49.609375 66.109375 42.828125 66.109375 \nQ 29.4375 66.109375 22.71875 58.640625 \nQ 16.015625 51.171875 16.015625 36.375 \nQ 16.015625 21.625 22.71875 14.15625 \nQ 29.4375 6.6875 42.828125 6.6875 \nQ 48.046875 6.6875 52.140625 7.59375 \nQ 56.25 8.5 59.515625 10.40625 \nz\n\" id=\"DejaVuSans-71\"/>\n       <path d=\"M 9.8125 72.90625 \nL 55.90625 72.90625 \nL 55.90625 64.59375 \nL 19.671875 64.59375 \nL 19.671875 43.015625 \nL 54.390625 43.015625 \nL 54.390625 34.71875 \nL 19.671875 34.71875 \nL 19.671875 8.296875 \nL 56.78125 8.296875 \nL 56.78125 0 \nL 9.8125 0 \nz\n\" id=\"DejaVuSans-69\"/>\n      </defs>\n      <use xlink:href=\"#DejaVuSans-65\"/>\n      <use x=\"66.658203\" xlink:href=\"#DejaVuSans-71\"/>\n      <use x=\"144.148438\" xlink:href=\"#DejaVuSans-69\"/>\n     </g>\n    </g>\n   </g>\n   <g id=\"matplotlib.axis_2\">\n    <g id=\"ytick_1\">\n     <g id=\"line2d_7\">\n      <defs>\n       <path d=\"M 0 0 \nL -3.5 0 \n\" id=\"m7d0361fafa\" style=\"stroke:#000000;stroke-width:0.8;\"/>\n      </defs>\n      <g>\n       <use style=\"stroke:#000000;stroke-width:0.8;\" x=\"49.588125\" xlink:href=\"#m7d0361fafa\" y=\"313.377038\"/>\n      </g>\n     </g>\n     <g id=\"text_8\">\n      <!-- 1.0 -->\n      <g transform=\"translate(26.685 317.176256)scale(0.1 -0.1)\">\n       <defs>\n        <path d=\"M 10.6875 12.40625 \nL 21 12.40625 \nL 21 0 \nL 10.6875 0 \nz\n\" id=\"DejaVuSans-46\"/>\n       </defs>\n       <use xlink:href=\"#DejaVuSans-49\"/>\n       <use x=\"63.623047\" xlink:href=\"#DejaVuSans-46\"/>\n       <use x=\"95.410156\" xlink:href=\"#DejaVuSans-48\"/>\n      </g>\n     </g>\n    </g>\n    <g id=\"ytick_2\">\n     <g id=\"line2d_8\">\n      <g>\n       <use style=\"stroke:#000000;stroke-width:0.8;\" x=\"49.588125\" xlink:href=\"#m7d0361fafa\" y=\"268.686501\"/>\n      </g>\n     </g>\n     <g id=\"text_9\">\n      <!-- 1.5 -->\n      <g transform=\"translate(26.685 272.48572)scale(0.1 -0.1)\">\n       <defs>\n        <path d=\"M 10.796875 72.90625 \nL 49.515625 72.90625 \nL 49.515625 64.59375 \nL 19.828125 64.59375 \nL 19.828125 46.734375 \nQ 21.96875 47.46875 24.109375 47.828125 \nQ 26.265625 48.1875 28.421875 48.1875 \nQ 40.625 48.1875 47.75 41.5 \nQ 54.890625 34.8125 54.890625 23.390625 \nQ 54.890625 11.625 47.5625 5.09375 \nQ 40.234375 -1.421875 26.90625 -1.421875 \nQ 22.3125 -1.421875 17.546875 -0.640625 \nQ 12.796875 0.140625 7.71875 1.703125 \nL 7.71875 11.625 \nQ 12.109375 9.234375 16.796875 8.0625 \nQ 21.484375 6.890625 26.703125 6.890625 \nQ 35.15625 6.890625 40.078125 11.328125 \nQ 45.015625 15.765625 45.015625 23.390625 \nQ 45.015625 31 40.078125 35.4375 \nQ 35.15625 39.890625 26.703125 39.890625 \nQ 22.75 39.890625 18.8125 39.015625 \nQ 14.890625 38.140625 10.796875 36.28125 \nz\n\" id=\"DejaVuSans-53\"/>\n       </defs>\n       <use xlink:href=\"#DejaVuSans-49\"/>\n       <use x=\"63.623047\" xlink:href=\"#DejaVuSans-46\"/>\n       <use x=\"95.410156\" xlink:href=\"#DejaVuSans-53\"/>\n      </g>\n     </g>\n    </g>\n    <g id=\"ytick_3\">\n     <g id=\"line2d_9\">\n      <g>\n       <use style=\"stroke:#000000;stroke-width:0.8;\" x=\"49.588125\" xlink:href=\"#m7d0361fafa\" y=\"223.995964\"/>\n      </g>\n     </g>\n     <g id=\"text_10\">\n      <!-- 2.0 -->\n      <g transform=\"translate(26.685 227.795183)scale(0.1 -0.1)\">\n       <use xlink:href=\"#DejaVuSans-50\"/>\n       <use x=\"63.623047\" xlink:href=\"#DejaVuSans-46\"/>\n       <use x=\"95.410156\" xlink:href=\"#DejaVuSans-48\"/>\n      </g>\n     </g>\n    </g>\n    <g id=\"ytick_4\">\n     <g id=\"line2d_10\">\n      <g>\n       <use style=\"stroke:#000000;stroke-width:0.8;\" x=\"49.588125\" xlink:href=\"#m7d0361fafa\" y=\"179.305427\"/>\n      </g>\n     </g>\n     <g id=\"text_11\">\n      <!-- 2.5 -->\n      <g transform=\"translate(26.685 183.104646)scale(0.1 -0.1)\">\n       <use xlink:href=\"#DejaVuSans-50\"/>\n       <use x=\"63.623047\" xlink:href=\"#DejaVuSans-46\"/>\n       <use x=\"95.410156\" xlink:href=\"#DejaVuSans-53\"/>\n      </g>\n     </g>\n    </g>\n    <g id=\"ytick_5\">\n     <g id=\"line2d_11\">\n      <g>\n       <use style=\"stroke:#000000;stroke-width:0.8;\" x=\"49.588125\" xlink:href=\"#m7d0361fafa\" y=\"134.61489\"/>\n      </g>\n     </g>\n     <g id=\"text_12\">\n      <!-- 3.0 -->\n      <g transform=\"translate(26.685 138.414109)scale(0.1 -0.1)\">\n       <defs>\n        <path d=\"M 40.578125 39.3125 \nQ 47.65625 37.796875 51.625 33 \nQ 55.609375 28.21875 55.609375 21.1875 \nQ 55.609375 10.40625 48.1875 4.484375 \nQ 40.765625 -1.421875 27.09375 -1.421875 \nQ 22.515625 -1.421875 17.65625 -0.515625 \nQ 12.796875 0.390625 7.625 2.203125 \nL 7.625 11.71875 \nQ 11.71875 9.328125 16.59375 8.109375 \nQ 21.484375 6.890625 26.8125 6.890625 \nQ 36.078125 6.890625 40.9375 10.546875 \nQ 45.796875 14.203125 45.796875 21.1875 \nQ 45.796875 27.640625 41.28125 31.265625 \nQ 36.765625 34.90625 28.71875 34.90625 \nL 20.21875 34.90625 \nL 20.21875 43.015625 \nL 29.109375 43.015625 \nQ 36.375 43.015625 40.234375 45.921875 \nQ 44.09375 48.828125 44.09375 54.296875 \nQ 44.09375 59.90625 40.109375 62.90625 \nQ 36.140625 65.921875 28.71875 65.921875 \nQ 24.65625 65.921875 20.015625 65.03125 \nQ 15.375 64.15625 9.8125 62.3125 \nL 9.8125 71.09375 \nQ 15.4375 72.65625 20.34375 73.4375 \nQ 25.25 74.21875 29.59375 74.21875 \nQ 40.828125 74.21875 47.359375 69.109375 \nQ 53.90625 64.015625 53.90625 55.328125 \nQ 53.90625 49.265625 50.4375 45.09375 \nQ 46.96875 40.921875 40.578125 39.3125 \nz\n\" id=\"DejaVuSans-51\"/>\n       </defs>\n       <use xlink:href=\"#DejaVuSans-51\"/>\n       <use x=\"63.623047\" xlink:href=\"#DejaVuSans-46\"/>\n       <use x=\"95.410156\" xlink:href=\"#DejaVuSans-48\"/>\n      </g>\n     </g>\n    </g>\n    <g id=\"ytick_6\">\n     <g id=\"line2d_12\">\n      <g>\n       <use style=\"stroke:#000000;stroke-width:0.8;\" x=\"49.588125\" xlink:href=\"#m7d0361fafa\" y=\"89.924354\"/>\n      </g>\n     </g>\n     <g id=\"text_13\">\n      <!-- 3.5 -->\n      <g transform=\"translate(26.685 93.723572)scale(0.1 -0.1)\">\n       <use xlink:href=\"#DejaVuSans-51\"/>\n       <use x=\"63.623047\" xlink:href=\"#DejaVuSans-46\"/>\n       <use x=\"95.410156\" xlink:href=\"#DejaVuSans-53\"/>\n      </g>\n     </g>\n    </g>\n    <g id=\"ytick_7\">\n     <g id=\"line2d_13\">\n      <g>\n       <use style=\"stroke:#000000;stroke-width:0.8;\" x=\"49.588125\" xlink:href=\"#m7d0361fafa\" y=\"45.233817\"/>\n      </g>\n     </g>\n     <g id=\"text_14\">\n      <!-- 4.0 -->\n      <g transform=\"translate(26.685 49.033035)scale(0.1 -0.1)\">\n       <use xlink:href=\"#DejaVuSans-52\"/>\n       <use x=\"63.623047\" xlink:href=\"#DejaVuSans-46\"/>\n       <use x=\"95.410156\" xlink:href=\"#DejaVuSans-48\"/>\n      </g>\n     </g>\n    </g>\n    <g id=\"text_15\">\n     <!-- 2014 F:M RATIO -->\n     <g transform=\"translate(19.3575 232.93875)rotate(-90)scale(0.16 -0.16)\">\n      <defs>\n       <path id=\"DejaVuSans-32\"/>\n       <path d=\"M 9.8125 72.90625 \nL 51.703125 72.90625 \nL 51.703125 64.59375 \nL 19.671875 64.59375 \nL 19.671875 43.109375 \nL 48.578125 43.109375 \nL 48.578125 34.8125 \nL 19.671875 34.8125 \nL 19.671875 0 \nL 9.8125 0 \nz\n\" id=\"DejaVuSans-70\"/>\n       <path d=\"M 11.71875 12.40625 \nL 22.015625 12.40625 \nL 22.015625 0 \nL 11.71875 0 \nz\nM 11.71875 51.703125 \nL 22.015625 51.703125 \nL 22.015625 39.3125 \nL 11.71875 39.3125 \nz\n\" id=\"DejaVuSans-58\"/>\n       <path d=\"M 9.8125 72.90625 \nL 24.515625 72.90625 \nL 43.109375 23.296875 \nL 61.8125 72.90625 \nL 76.515625 72.90625 \nL 76.515625 0 \nL 66.890625 0 \nL 66.890625 64.015625 \nL 48.09375 14.015625 \nL 38.1875 14.015625 \nL 19.390625 64.015625 \nL 19.390625 0 \nL 9.8125 0 \nz\n\" id=\"DejaVuSans-77\"/>\n       <path d=\"M 44.390625 34.1875 \nQ 47.5625 33.109375 50.5625 29.59375 \nQ 53.5625 26.078125 56.59375 19.921875 \nL 66.609375 0 \nL 56 0 \nL 46.6875 18.703125 \nQ 43.0625 26.03125 39.671875 28.421875 \nQ 36.28125 30.8125 30.421875 30.8125 \nL 19.671875 30.8125 \nL 19.671875 0 \nL 9.8125 0 \nL 9.8125 72.90625 \nL 32.078125 72.90625 \nQ 44.578125 72.90625 50.734375 67.671875 \nQ 56.890625 62.453125 56.890625 51.90625 \nQ 56.890625 45.015625 53.6875 40.46875 \nQ 50.484375 35.9375 44.390625 34.1875 \nz\nM 19.671875 64.796875 \nL 19.671875 38.921875 \nL 32.078125 38.921875 \nQ 39.203125 38.921875 42.84375 42.21875 \nQ 46.484375 45.515625 46.484375 51.90625 \nQ 46.484375 58.296875 42.84375 61.546875 \nQ 39.203125 64.796875 32.078125 64.796875 \nz\n\" id=\"DejaVuSans-82\"/>\n       <path d=\"M -0.296875 72.90625 \nL 61.375 72.90625 \nL 61.375 64.59375 \nL 35.5 64.59375 \nL 35.5 0 \nL 25.59375 0 \nL 25.59375 64.59375 \nL -0.296875 64.59375 \nz\n\" id=\"DejaVuSans-84\"/>\n       <path d=\"M 9.8125 72.90625 \nL 19.671875 72.90625 \nL 19.671875 0 \nL 9.8125 0 \nz\n\" id=\"DejaVuSans-73\"/>\n       <path d=\"M 39.40625 66.21875 \nQ 28.65625 66.21875 22.328125 58.203125 \nQ 16.015625 50.203125 16.015625 36.375 \nQ 16.015625 22.609375 22.328125 14.59375 \nQ 28.65625 6.59375 39.40625 6.59375 \nQ 50.140625 6.59375 56.421875 14.59375 \nQ 62.703125 22.609375 62.703125 36.375 \nQ 62.703125 50.203125 56.421875 58.203125 \nQ 50.140625 66.21875 39.40625 66.21875 \nz\nM 39.40625 74.21875 \nQ 54.734375 74.21875 63.90625 63.9375 \nQ 73.09375 53.65625 73.09375 36.375 \nQ 73.09375 19.140625 63.90625 8.859375 \nQ 54.734375 -1.421875 39.40625 -1.421875 \nQ 24.03125 -1.421875 14.8125 8.828125 \nQ 5.609375 19.09375 5.609375 36.375 \nQ 5.609375 53.65625 14.8125 63.9375 \nQ 24.03125 74.21875 39.40625 74.21875 \nz\n\" id=\"DejaVuSans-79\"/>\n      </defs>\n      <use xlink:href=\"#DejaVuSans-50\"/>\n      <use x=\"63.623047\" xlink:href=\"#DejaVuSans-48\"/>\n      <use x=\"127.246094\" xlink:href=\"#DejaVuSans-49\"/>\n      <use x=\"190.869141\" xlink:href=\"#DejaVuSans-52\"/>\n      <use x=\"254.492188\" xlink:href=\"#DejaVuSans-32\"/>\n      <use x=\"286.279297\" xlink:href=\"#DejaVuSans-70\"/>\n      <use x=\"336.048828\" xlink:href=\"#DejaVuSans-58\"/>\n      <use x=\"369.740234\" xlink:href=\"#DejaVuSans-77\"/>\n      <use x=\"456.019531\" xlink:href=\"#DejaVuSans-32\"/>\n      <use x=\"487.806641\" xlink:href=\"#DejaVuSans-82\"/>\n      <use x=\"553.289062\" xlink:href=\"#DejaVuSans-65\"/>\n      <use x=\"613.947266\" xlink:href=\"#DejaVuSans-84\"/>\n      <use x=\"675.03125\" xlink:href=\"#DejaVuSans-73\"/>\n      <use x=\"704.523438\" xlink:href=\"#DejaVuSans-79\"/>\n     </g>\n    </g>\n   </g>\n   <g id=\"line2d_14\">\n    <path clip-path=\"url(#p9596f25b63)\" d=\"M 64.806307 317.397519 \nL 67.849943 317.23082 \nL 70.89358 317.249754 \nL 73.937216 317.394004 \nL 76.980852 317.019488 \nL 80.024489 316.952475 \nL 83.068125 317.026273 \nL 86.111761 317.180686 \nL 89.155398 317.21157 \nL 92.199034 317.085366 \nL 95.24267 316.934046 \nL 98.286307 316.848036 \nL 101.329943 316.864294 \nL 104.37358 317.021195 \nL 107.417216 317.340866 \nL 110.460852 317.295081 \nL 113.504489 317.33112 \nL 116.548125 317.229468 \nL 119.591761 317.651328 \nL 122.635398 317.994389 \nL 125.679034 318.142867 \nL 128.72267 318.534545 \nL 131.766307 318.097443 \nL 134.809943 317.188179 \nL 137.85358 316.763344 \nL 140.897216 316.58279 \nL 143.940852 316.317436 \nL 146.984489 316.147158 \nL 150.028125 315.896422 \nL 153.071761 315.307941 \nL 156.115398 314.593102 \nL 159.159034 314.219101 \nL 162.20267 313.837354 \nL 165.246307 313.562348 \nL 168.289943 314.233237 \nL 171.33358 313.375816 \nL 174.377216 313.156423 \nL 177.420852 312.610755 \nL 180.464489 312.662689 \nL 183.508125 312.968399 \nL 186.551761 312.211849 \nL 189.595398 311.654802 \nL 192.639034 311.913132 \nL 195.68267 311.798692 \nL 198.726307 312.501946 \nL 201.769943 312.176154 \nL 204.81358 312.003649 \nL 207.857216 311.436341 \nL 210.900852 311.511856 \nL 213.944489 311.334676 \nL 216.988125 310.593769 \nL 220.031761 310.191716 \nL 223.075398 309.937059 \nL 226.119034 309.479568 \nL 229.16267 309.820298 \nL 232.206307 309.028875 \nL 235.249943 308.614826 \nL 238.29358 307.979148 \nL 241.337216 307.361318 \nL 244.380852 307.036357 \nL 247.424489 305.991079 \nL 250.468125 305.539278 \nL 253.511761 305.288996 \nL 256.555398 304.466223 \nL 259.599034 304.447137 \nL 262.64267 303.960376 \nL 265.686307 303.834606 \nL 268.729943 303.684884 \nL 271.77358 302.322967 \nL 274.817216 301.286247 \nL 277.860852 300.269824 \nL 280.904489 299.502927 \nL 283.948125 298.095397 \nL 286.991761 296.106109 \nL 290.035398 295.064958 \nL 293.079034 294.694461 \nL 296.12267 292.384354 \nL 299.166307 290.319807 \nL 302.209943 288.132068 \nL 305.25358 285.108203 \nL 308.297216 282.863847 \nL 311.340852 279.441813 \nL 314.384489 275.898062 \nL 317.428125 271.768369 \nL 320.471761 266.855581 \nL 323.515398 261.928956 \nL 326.559034 255.193565 \nL 329.60267 248.869033 \nL 332.646307 240.779248 \nL 335.689943 231.292182 \nL 338.73358 222.867399 \nL 341.777216 215.515412 \nL 344.820852 203.447086 \nL 347.864489 194.179612 \nL 350.908125 177.263272 \nL 353.951761 163.884903 \nL 356.995398 145.342461 \nL 360.039034 126.477736 \nL 363.08267 97.230618 \nL 366.126307 78.056472 \nL 369.169943 22.025455 \n\" style=\"fill:none;stroke:#001e42;stroke-linecap:square;stroke-opacity:0.7;stroke-width:1.5;\"/>\n   </g>\n   <g id=\"patch_3\">\n    <path d=\"M 49.588125 333.36 \nL 49.588125 7.2 \n\" style=\"fill:none;stroke:#000000;stroke-linecap:square;stroke-linejoin:miter;stroke-width:0.8;\"/>\n   </g>\n   <g id=\"patch_4\">\n    <path d=\"M 384.388125 333.36 \nL 384.388125 7.2 \n\" style=\"fill:none;stroke:#000000;stroke-linecap:square;stroke-linejoin:miter;stroke-width:0.8;\"/>\n   </g>\n   <g id=\"patch_5\">\n    <path d=\"M 49.588125 333.36 \nL 384.388125 333.36 \n\" style=\"fill:none;stroke:#000000;stroke-linecap:square;stroke-linejoin:miter;stroke-width:0.8;\"/>\n   </g>\n   <g id=\"patch_6\">\n    <path d=\"M 49.588125 7.2 \nL 384.388125 7.2 \n\" style=\"fill:none;stroke:#000000;stroke-linecap:square;stroke-linejoin:miter;stroke-width:0.8;\"/>\n   </g>\n  </g>\n </g>\n <defs>\n  <clipPath id=\"p9596f25b63\">\n   <rect height=\"326.16\" width=\"334.8\" x=\"49.588125\" y=\"7.2\"/>\n  </clipPath>\n </defs>\n</svg>\n",
      "image/png": "[encoded data removed]"
     },
     "metadata": {
      "needs_background": "light"
     }
    }
   ],
   "source": [
    "%matplotlib inline\n",
    "ratios.plot('AGE')"
   ]
  },
  {
   "cell_type": "code",
   "execution_count": null,
   "metadata": {},
   "outputs": [],
   "source": []
  }
 ]
}