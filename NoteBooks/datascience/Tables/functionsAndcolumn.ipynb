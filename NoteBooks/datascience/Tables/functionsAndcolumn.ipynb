{
 "metadata": {
  "language_info": {
   "codemirror_mode": {
    "name": "ipython",
    "version": 3
   },
   "file_extension": ".py",
   "mimetype": "text/x-python",
   "name": "python",
   "nbconvert_exporter": "python",
   "pygments_lexer": "ipython3",
   "version": "3.7.3-final"
  },
  "orig_nbformat": 2,
  "kernelspec": {
   "name": "Python 3.7.3 64-bit",
   "display_name": "Python 3.7.3 64-bit",
   "metadata": {
    "interpreter": {
     "hash": "31f2aee4e71d21fbe5cf8b01ff0e069b9275f58929596ceb00d14d90e3e16cd6"
    }
   }
  }
 },
 "nbformat": 4,
 "nbformat_minor": 2,
 "cells": [
  {
   "cell_type": "code",
   "execution_count": 1,
   "metadata": {},
   "outputs": [],
   "source": [
    "from datascience import *\n",
    "import numpy as np"
   ]
  },
  {
   "cell_type": "code",
   "execution_count": 2,
   "metadata": {},
   "outputs": [],
   "source": [
    "def cut_off_at_100(x):\n",
    "    \"\"\"The smaller of x and 100\"\"\"\n",
    "    return min(x, 100)"
   ]
  },
  {
   "cell_type": "code",
   "execution_count": 3,
   "metadata": {},
   "outputs": [
    {
     "output_type": "execute_result",
     "data": {
      "text/plain": [
       "17"
      ]
     },
     "metadata": {},
     "execution_count": 3
    }
   ],
   "source": [
    "cut_off_at_100(17)"
   ]
  },
  {
   "cell_type": "code",
   "execution_count": 4,
   "metadata": {},
   "outputs": [
    {
     "output_type": "execute_result",
     "data": {
      "text/plain": [
       "100"
      ]
     },
     "metadata": {},
     "execution_count": 4
    }
   ],
   "source": [
    "cut_off_at_100(117)"
   ]
  },
  {
   "cell_type": "code",
   "execution_count": 5,
   "metadata": {},
   "outputs": [
    {
     "output_type": "execute_result",
     "data": {
      "text/plain": [
       "100"
      ]
     },
     "metadata": {},
     "execution_count": 5
    }
   ],
   "source": [
    "cut_off_at_100(100)"
   ]
  },
  {
   "cell_type": "code",
   "execution_count": 6,
   "metadata": {},
   "outputs": [
    {
     "output_type": "execute_result",
     "data": {
      "text/plain": [
       "Person | Age\n",
       "A      | 17\n",
       "B      | 117\n",
       "C      | 52\n",
       "D      | 100\n",
       "E      | 6\n",
       "F      | 101"
      ],
      "text/html": "<table border=\"1\" class=\"dataframe\">\n    <thead>\n        <tr>\n            <th>Person</th> <th>Age</th>\n        </tr>\n    </thead>\n    <tbody>\n        <tr>\n            <td>A     </td> <td>17  </td>\n        </tr>\n        <tr>\n            <td>B     </td> <td>117 </td>\n        </tr>\n        <tr>\n            <td>C     </td> <td>52  </td>\n        </tr>\n        <tr>\n            <td>D     </td> <td>100 </td>\n        </tr>\n        <tr>\n            <td>E     </td> <td>6   </td>\n        </tr>\n        <tr>\n            <td>F     </td> <td>101 </td>\n        </tr>\n    </tbody>\n</table>"
     },
     "metadata": {},
     "execution_count": 6
    }
   ],
   "source": [
    "ages = Table().with_columns(\n",
    "    'Person', make_array('A', 'B', 'C', 'D', 'E', 'F'),\n",
    "    'Age', make_array(17, 117, 52, 100, 6, 101)\n",
    ")\n",
    "ages"
   ]
  },
  {
   "cell_type": "code",
   "execution_count": 7,
   "metadata": {},
   "outputs": [
    {
     "output_type": "execute_result",
     "data": {
      "text/plain": [
       "array([ 17, 100,  52, 100,   6, 100])"
      ]
     },
     "metadata": {},
     "execution_count": 7
    }
   ],
   "source": [
    "ages.apply(cut_off_at_100,'Age')"
   ]
  },
  {
   "cell_type": "code",
   "execution_count": 8,
   "metadata": {},
   "outputs": [
    {
     "output_type": "execute_result",
     "data": {
      "text/plain": [
       "Person | Age  | Cut Off Age\n",
       "A      | 17   | 17\n",
       "B      | 117  | 100\n",
       "C      | 52   | 52\n",
       "D      | 100  | 100\n",
       "E      | 6    | 6\n",
       "F      | 101  | 100"
      ],
      "text/html": "<table border=\"1\" class=\"dataframe\">\n    <thead>\n        <tr>\n            <th>Person</th> <th>Age</th> <th>Cut Off Age</th>\n        </tr>\n    </thead>\n    <tbody>\n        <tr>\n            <td>A     </td> <td>17  </td> <td>17         </td>\n        </tr>\n        <tr>\n            <td>B     </td> <td>117 </td> <td>100        </td>\n        </tr>\n        <tr>\n            <td>C     </td> <td>52  </td> <td>52         </td>\n        </tr>\n        <tr>\n            <td>D     </td> <td>100 </td> <td>100        </td>\n        </tr>\n        <tr>\n            <td>E     </td> <td>6   </td> <td>6          </td>\n        </tr>\n        <tr>\n            <td>F     </td> <td>101 </td> <td>100        </td>\n        </tr>\n    </tbody>\n</table>"
     },
     "metadata": {},
     "execution_count": 8
    }
   ],
   "source": [
    "ages.with_column(\n",
    "    'Cut Off Age', ages.apply(cut_off_at_100, 'Age')\n",
    ")"
   ]
  },
  {
   "cell_type": "code",
   "execution_count": 9,
   "metadata": {},
   "outputs": [],
   "source": [
    "cut_off = cut_off_at_100"
   ]
  },
  {
   "cell_type": "code",
   "execution_count": 10,
   "metadata": {},
   "outputs": [
    {
     "output_type": "execute_result",
     "data": {
      "text/plain": [
       "<function __main__.cut_off_at_100(x)>"
      ]
     },
     "metadata": {},
     "execution_count": 10
    }
   ],
   "source": [
    "cut_off"
   ]
  },
  {
   "cell_type": "code",
   "execution_count": 11,
   "metadata": {},
   "outputs": [
    {
     "output_type": "execute_result",
     "data": {
      "text/plain": [
       "100"
      ]
     },
     "metadata": {},
     "execution_count": 11
    }
   ],
   "source": [
    "cut_off(102)"
   ]
  }
 ]
}