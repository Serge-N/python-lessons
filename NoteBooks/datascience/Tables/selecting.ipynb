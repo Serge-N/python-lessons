{
 "metadata": {
  "language_info": {
   "codemirror_mode": {
    "name": "ipython",
    "version": 3
   },
   "file_extension": ".py",
   "mimetype": "text/x-python",
   "name": "python",
   "nbconvert_exporter": "python",
   "pygments_lexer": "ipython3",
   "version": "3.7.3-final"
  },
  "orig_nbformat": 2,
  "kernelspec": {
   "name": "Python 3.7.3 64-bit",
   "display_name": "Python 3.7.3 64-bit",
   "metadata": {
    "interpreter": {
     "hash": "31f2aee4e71d21fbe5cf8b01ff0e069b9275f58929596ceb00d14d90e3e16cd6"
    }
   }
  }
 },
 "nbformat": 4,
 "nbformat_minor": 2,
 "cells": [
  {
   "cell_type": "code",
   "execution_count": 4,
   "metadata": {},
   "outputs": [],
   "source": [
    "from datascience import *"
   ]
  },
  {
   "cell_type": "code",
   "execution_count": 5,
   "metadata": {},
   "outputs": [],
   "source": [
    "report = Table().with_columns('Number of Vegetables', make_array(8, 34, 5), 'Name', make_array('Tomatoes','Rape','Onion'))\n",
    "report = report.with_columns('Province', make_array('Lusaka','Luapula','Copperbelt'))"
   ]
  },
  {
   "cell_type": "code",
   "execution_count": 7,
   "metadata": {},
   "outputs": [
    {
     "output_type": "execute_result",
     "data": {
      "text/plain": [
       "Number of Vegetables | Name     | Province\n",
       "8                    | Tomatoes | Lusaka\n",
       "34                   | Rape     | Luapula\n",
       "5                    | Onion    | Copperbelt"
      ],
      "text/html": "<table border=\"1\" class=\"dataframe\">\n    <thead>\n        <tr>\n            <th>Number of Vegetables</th> <th>Name</th> <th>Province</th>\n        </tr>\n    </thead>\n    <tbody>\n        <tr>\n            <td>8                   </td> <td>Tomatoes</td> <td>Lusaka    </td>\n        </tr>\n        <tr>\n            <td>34                  </td> <td>Rape    </td> <td>Luapula   </td>\n        </tr>\n        <tr>\n            <td>5                   </td> <td>Onion   </td> <td>Copperbelt</td>\n        </tr>\n    </tbody>\n</table>"
     },
     "metadata": {},
     "execution_count": 7
    }
   ],
   "source": [
    "report"
   ]
  },
  {
   "cell_type": "code",
   "execution_count": 10,
   "metadata": {},
   "outputs": [
    {
     "output_type": "execute_result",
     "data": {
      "text/plain": [
       "Number of Vegetables | Name     | Province\n",
       "8                    | Tomatoes | Lusaka"
      ],
      "text/html": "<table border=\"1\" class=\"dataframe\">\n    <thead>\n        <tr>\n            <th>Number of Vegetables</th> <th>Name</th> <th>Province</th>\n        </tr>\n    </thead>\n    <tbody>\n        <tr>\n            <td>8                   </td> <td>Tomatoes</td> <td>Lusaka  </td>\n        </tr>\n    </tbody>\n</table>"
     },
     "metadata": {},
     "execution_count": 10
    }
   ],
   "source": [
    "report.take(0)"
   ]
  },
  {
   "cell_type": "code",
   "execution_count": 18,
   "metadata": {},
   "outputs": [
    {
     "output_type": "execute_result",
     "data": {
      "text/plain": [
       "Number of Vegetables | Name     | Province\n",
       "8                    | Tomatoes | Lusaka\n",
       "34                   | Rape     | Luapula"
      ],
      "text/html": "<table border=\"1\" class=\"dataframe\">\n    <thead>\n        <tr>\n            <th>Number of Vegetables</th> <th>Name</th> <th>Province</th>\n        </tr>\n    </thead>\n    <tbody>\n        <tr>\n            <td>8                   </td> <td>Tomatoes</td> <td>Lusaka  </td>\n        </tr>\n        <tr>\n            <td>34                  </td> <td>Rape    </td> <td>Luapula </td>\n        </tr>\n    </tbody>\n</table>"
     },
     "metadata": {},
     "execution_count": 18
    }
   ],
   "source": [
    "report.where('Number of Vegetables', are.above_or_equal_to(8))"
   ]
  },
  {
   "cell_type": "code",
   "execution_count": 21,
   "metadata": {},
   "outputs": [
    {
     "output_type": "execute_result",
     "data": {
      "text/plain": [
       "Number of Vegetables | Name     | Province\n",
       "34                   | Rape     | Luapula\n",
       "8                    | Tomatoes | Lusaka"
      ],
      "text/html": "<table border=\"1\" class=\"dataframe\">\n    <thead>\n        <tr>\n            <th>Number of Vegetables</th> <th>Name</th> <th>Province</th>\n        </tr>\n    </thead>\n    <tbody>\n        <tr>\n            <td>34                  </td> <td>Rape    </td> <td>Luapula </td>\n        </tr>\n        <tr>\n            <td>8                   </td> <td>Tomatoes</td> <td>Lusaka  </td>\n        </tr>\n    </tbody>\n</table>"
     },
     "metadata": {},
     "execution_count": 21
    }
   ],
   "source": [
    "report.where('Number of Vegetables', are.above_or_equal_to(8)).sort('Province')"
   ]
  },
  {
   "cell_type": "code",
   "execution_count": null,
   "metadata": {},
   "outputs": [],
   "source": []
  }
 ]
}